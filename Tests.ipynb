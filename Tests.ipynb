{
 "cells": [
  {
   "cell_type": "code",
   "execution_count": 1,
   "metadata": {},
   "outputs": [
    {
     "name": "stdout",
     "output_type": "stream",
     "text": [
      "Overwriting src/Python/ICGC_data_parser/ssm_reader.py\n"
     ]
    }
   ],
   "source": [
    "%%writefile src/Python/ICGC_data_parser/ssm_reader.py\n",
    "\"\"\"\n",
    "Module with functionality to read the ICGC\n",
    "simple somatic mutations file.\n",
    "\"\"\"\n",
    "\n",
    "import vcf\n",
    "import re\n",
    "from collections import namedtuple\n",
    "\n",
    "\n",
    "class BufferedReader:\n",
    "    \"\"\"A wrapper over a file descriptor that adds buffering functionality.\"\"\"\n",
    "    def __init__(self, fdesc):\n",
    "        self.file = fdesc\n",
    "        self.buffer = []\n",
    "    # ---\n",
    "    \n",
    "    def __getattr__(self, attr):\n",
    "        return getattr(self.file, attr)\n",
    "    # ---\n",
    "    \n",
    "    def push(self, line):\n",
    "        self.buffer.append(line)\n",
    "    # ---\n",
    "    \n",
    "    def __iter__(self):\n",
    "        return self\n",
    "    \n",
    "    def __next__(self):\n",
    "        if self.buffer:\n",
    "            return self.buffer.pop()\n",
    "        return next(self.file)\n",
    "    # ---\n",
    "# --- BufferedReader\n",
    "\n",
    "\n",
    "class SSM_Reader(vcf.Reader):\n",
    "    \"\"\"Reader class for the International Cancer Genome \n",
    "    Consortium aggregate file of simple somatic mutations\n",
    "    from the Data Releases.\n",
    "    \n",
    "    Example::\n",
    "        \n",
    "            >>> reader = SSM_Reader(filename='data/ssm_sample.vcf')\n",
    "\n",
    "            >>> for record in reader.parse(filters=['BRCA-EU']):\n",
    "            ...    print(record.ID, record.CHROM, record.POS)\n",
    "            MU66865518 1 100141201\n",
    "            MU65487875 1 100160548\n",
    "            MU66281118 1 100638179\n",
    "            MU66254120 1 101352655\n",
    "                ...\n",
    "    \"\"\"\n",
    "    \n",
    "    def __init__(self, *args, buffered=False, **kwargs):\n",
    "        super().__init__(*args, **kwargs)\n",
    "        \n",
    "        # Add buffering \n",
    "        self.reader = BufferedReader(self.reader)\n",
    "        self.re_filters = []\n",
    "    # --- \n",
    "    \n",
    "    def push_line(self, line):\n",
    "        self.reader.push(line)\n",
    "    # ---\n",
    "    \n",
    "    def iter_lines(self):\n",
    "        return self.reader\n",
    "    # ---\n",
    "    \n",
    "    def next_line(self):\n",
    "        return next(self.reader)\n",
    "    # ---\n",
    "    \n",
    "    def next_array(self):\n",
    "        return next(self.reader).split('\\t')\n",
    "    # ---\n",
    "    \n",
    "    def subfield_parser(self, sf_name, sep='|'):\n",
    "        \"\"\"Get a parser for the items of the subfield.\n",
    "        \n",
    "        Useful to parse the CONSEQUENCE and OCCURRENCE subfields\n",
    "        of the INFO field.\n",
    "        \n",
    "        Example::\n",
    "        \n",
    "            >>> reader = SSM_Reader(filename='data/ssm_sample.vcf')\n",
    "            \n",
    "            >>> CONSEQUENCE = reader.subfield_parser('CONSEQUENCE')\n",
    "\n",
    "            >>> for record in reader.parse(filters=['BRCA-EU']):\n",
    "            ...    # Which genes are affected?\n",
    "            ...    print(CONSEQUENCE(record)[0].gene_symbol)\n",
    "            SLC27A3\n",
    "            GATAD2B\n",
    "            TPM3\n",
    "            SHE\n",
    "            ADAM15\n",
    "              ...    \n",
    "        \"\"\"\n",
    "        # Get the description of the subfield\n",
    "        sf_info = self.infos[sf_name]\n",
    "        \n",
    "        # Get the field id\n",
    "        field_id = sf_info.id\n",
    "\n",
    "        # Get the subfields names\n",
    "        subfields_str = re.findall(\"\\(subfields: (.*?)\\)\", sf_info.desc)[0]\n",
    "        subfields = subfields_str.split(sep)\n",
    "\n",
    "        # Create the structure\n",
    "        field_struct = namedtuple(field_id, subfields)\n",
    "\n",
    "        # Create parser\n",
    "        def parse(record):\n",
    "            # Parse the field items\n",
    "            return [field_struct(*item.split(sep)) \n",
    "                        for item in record.INFO[field_id]\n",
    "                        if item]\n",
    "\n",
    "        parse.field_id = sf_info.id\n",
    "        parse.subfields = subfields\n",
    "        return parse\n",
    "    # ---\n",
    "    \n",
    "    def parse_lines(self, filters=None):\n",
    "        \"\"\"Iterate through the file, filtering out the \n",
    "        lines not matching the regular expressions given.  \n",
    "        \"\"\"\n",
    "        if filters is None:\n",
    "            filters = []\n",
    "            \n",
    "        # Compile filters for faster lookup\n",
    "        filters = [re.compile(regex) \n",
    "                       for regex in filters \n",
    "                       if regex is not None]\n",
    "        \n",
    "        for line in self.reader:\n",
    "            if all(filter_.search(line) for filter_ in filters):\n",
    "                   # The line passes all filters\n",
    "                   yield line\n",
    "    # ---\n",
    "                   \n",
    "    def parse(self, filters=None):\n",
    "        \"\"\"Iterate through the records of the file, \n",
    "        filtering out the lines that do not match the \n",
    "        regular expressions given.\n",
    "        \n",
    "        Example::\n",
    "        \n",
    "            >>> reader = SSM_Reader(filename='data/ssm_sample.vcf')\n",
    "\n",
    "            >>> for record in reader.parse(filters=['BRCA-EU']):\n",
    "            ...    print(record.ID)\n",
    "            MU66865518\n",
    "            MU65487875\n",
    "            MU66281118\n",
    "            MU66254120\n",
    "                ...\n",
    "            \n",
    "        \"\"\"\n",
    "        for line in self.parse_lines(filters=filters):\n",
    "            # The parser reads the record from\n",
    "            # self.reader, so, we must rebuffer \n",
    "            # the line to parse it.\n",
    "            self.reader.push(line)\n",
    "            yield next(self)\n",
    "    # ---\n",
    "# SSM_Reader"
   ]
  },
  {
   "cell_type": "code",
   "execution_count": 40,
   "metadata": {},
   "outputs": [
    {
     "data": {
      "text/plain": [
       "[0, 1, 2, 3, 4]"
      ]
     },
     "execution_count": 40,
     "metadata": {},
     "output_type": "execute_result"
    }
   ],
   "source": [
    "# Helper function to test\n",
    "from itertools import islice\n",
    "\n",
    "def head(iterable, items=10):\n",
    "    'Return the first items of an iterator.'\n",
    "    iterator = iter(iterable)\n",
    "    return islice(iterator, items)\n",
    "# ---\n",
    "\n",
    "[item for item in head(range(100), items=5)]"
   ]
  },
  {
   "cell_type": "code",
   "execution_count": 9,
   "metadata": {},
   "outputs": [],
   "source": [
    "import src.Python.ICGC_data_parser as dp"
   ]
  },
  {
   "cell_type": "code",
   "execution_count": 31,
   "metadata": {},
   "outputs": [],
   "source": [
    "reader = dp.SSM_Reader(filename=\"data/ssm_sample.vcf\", buffered=True)"
   ]
  },
  {
   "cell_type": "code",
   "execution_count": 32,
   "metadata": {},
   "outputs": [
    {
     "name": "stdout",
     "output_type": "stream",
     "text": [
      "Record(CHROM=1, POS=100006117, REF=G, ALT=[A])\n"
     ]
    }
   ],
   "source": [
    "# Checking the reader\n",
    "print(next(reader))"
   ]
  },
  {
   "cell_type": "code",
   "execution_count": 33,
   "metadata": {},
   "outputs": [
    {
     "name": "stdout",
     "output_type": "stream",
     "text": [
      "1\t100019738\tMU57116993\tG\tT\t.\t.\tCONSEQUENCE=||||||intergenic_region||;OCCURRENCE=LUSC-KR|1|66|0.01515;affected_donors=1;mutation=G>T;project_count=1;studies=.;tested_donors=12068\n"
     ]
    }
   ],
   "source": [
    "# Reading raw lines\n",
    "print(reader.next_line())"
   ]
  },
  {
   "cell_type": "code",
   "execution_count": 49,
   "metadata": {},
   "outputs": [
    {
     "name": "stdout",
     "output_type": "stream",
     "text": [
      "MU66865518 1 100141201\n",
      "MU65487875 1 100160548\n",
      "MU66281118 1 100638179\n",
      "MU66254120 1 101352655\n",
      "MU65592106 1 101354415\n",
      "MU63863018 1 102192768\n",
      "MU66309268 1 102435620\n",
      "MU64254259 1 102697175\n",
      "MU63543981 1 103240746\n",
      "MU64836859 1 103303624\n"
     ]
    }
   ],
   "source": [
    "reader = dp.SSM_Reader(filename='data/ssm_sample.vcf')\n",
    "\n",
    "for record in head(reader.parse(filters=['BRCA-EU'])):\n",
    "    print(record.ID, record.CHROM, record.POS)"
   ]
  },
  {
   "cell_type": "markdown",
   "metadata": {},
   "source": [
    "# Testing buffering"
   ]
  },
  {
   "cell_type": "code",
   "execution_count": 34,
   "metadata": {},
   "outputs": [
    {
     "name": "stdout",
     "output_type": "stream",
     "text": [
      "MU34331173\n",
      "MU34331173\n"
     ]
    }
   ],
   "source": [
    "# Fetch a line\n",
    "line = reader.next_line()\n",
    "print(line.split('\\t')[2]) # Print mutation ID\n",
    "\n",
    "# Rebuffer the line \n",
    "reader.reader.push(line)\n",
    "\n",
    "# Fetch buffered line as record, \n",
    "print(next(reader).ID)"
   ]
  },
  {
   "cell_type": "code",
   "execution_count": 35,
   "metadata": {},
   "outputs": [
    {
     "name": "stdout",
     "output_type": "stream",
     "text": [
      "MU66865518 MU66865518\n",
      "MU65487875 MU65487875\n"
     ]
    }
   ],
   "source": [
    "\"\"\"Testing buffering in action.\n",
    "\n",
    "Application: Search lines that match regex\n",
    "and analyze them as a record.\n",
    "\"\"\"\n",
    "\n",
    "import re\n",
    "\n",
    "project = re.compile('BRCA-EU') # Query string\n",
    "\n",
    "for line in head(reader.iter_lines()):\n",
    "    if project.search(line):\n",
    "        # Line matches query.\n",
    "        # Print mutation ID\n",
    "        # from raw line\n",
    "        print(line.split('\\t')[2], end=' ') \n",
    "        \n",
    "        # Rebuffer line\n",
    "        reader.reader.push(line)\n",
    "        \n",
    "        # Fetch as record and print ID\n",
    "        print(next(reader).ID)"
   ]
  },
  {
   "cell_type": "markdown",
   "metadata": {},
   "source": [
    "# File parsing"
   ]
  },
  {
   "cell_type": "code",
   "execution_count": 37,
   "metadata": {},
   "outputs": [
    {
     "name": "stdout",
     "output_type": "stream",
     "text": [
      "MU67273947\n",
      "{'CONSEQUENCE': ['TP53BP1|ENSG00000067369|1|TP53BP1-002|ENST00000263801||intron_variant||', 'TP53BP1|ENSG00000067369|1|TP53BP1-004|ENST00000382039||intron_variant||', 'TP53BP1|ENSG00000067369|1|TP53BP1-001|ENST00000382044||intron_variant||', 'TP53BP1|ENSG00000067369|1|TP53BP1-011|ENST00000411772||intron_variant||', 'TP53BP1|ENSG00000067369|1|TP53BP1-005|ENST00000413546||downstream_gene_variant||', 'TP53BP1|ENSG00000067369|1|TP53BP1-008|ENST00000417342||intron_variant||', 'TP53BP1|ENSG00000067369|1|TP53BP1-014|ENST00000450115||intron_variant||', 'TP53BP1|ENSG00000067369|1|TP53BP1-013|ENST00000467474||upstream_gene_variant||', 'TP53BP1|ENSG00000067369|1|TP53BP1-015|ENST00000572085||intron_variant||'], 'OCCURRENCE': ['BRCA-EU|1|569|0.00176'], 'affected_donors': 1, 'mutation': 'G>A', 'project_count': 1, 'studies': 'PCAWG', 'tested_donors': 12068}\n"
     ]
    }
   ],
   "source": [
    "reader = dp.SSM_Reader(filename='data/ssm_sample.vcf')\n",
    "\n",
    "for record in reader.parse(filters=['BRCA-EU', 'TP53']):\n",
    "    print(record.ID)\n",
    "    print(record.INFO)"
   ]
  },
  {
   "cell_type": "markdown",
   "metadata": {},
   "source": [
    "## INFO subfields parsing"
   ]
  },
  {
   "cell_type": "code",
   "execution_count": 39,
   "metadata": {},
   "outputs": [
    {
     "name": "stdout",
     "output_type": "stream",
     "text": [
      "PALMD\n",
      "\n",
      "LRRC39\n",
      "EXTL2\n",
      "EXTL2\n",
      "RP11-411H5.1\n",
      "OLFM3\n",
      "RP11-202K23.1\n",
      "RP5-936J12.1\n",
      "RP5-936J12.1\n"
     ]
    }
   ],
   "source": [
    "reader = dp.SSM_Reader(filename='data/ssm_sample.vcf')\n",
    "            \n",
    "CONSEQUENCES = reader.subfield_parser('CONSEQUENCE')\n",
    "\n",
    "for record in head(reader.parse(filters=['BRCA-EU'])):\n",
    "    # Which genes are affected?\n",
    "    print(CONSEQUENCES(record)[0].gene_symbol)"
   ]
  },
  {
   "cell_type": "markdown",
   "metadata": {},
   "source": [
    "# Use case: Mutation recurrence distribution.\n",
    "\n",
    "How many mutations appear in multiple patients? or, specifying further, How many mutations are repeated in n different patients in a given cancer project? This data is concentrated in the mutation recurrence distribution."
   ]
  },
  {
   "cell_type": "code",
   "execution_count": 51,
   "metadata": {},
   "outputs": [
    {
     "name": "stdout",
     "output_type": "stream",
     "text": [
      "CPU times: user 10.8 s, sys: 20 ms, total: 10.8 s\n",
      "Wall time: 10.8 s\n"
     ]
    }
   ],
   "source": [
    "%%time\n",
    "from collections import Counter\n",
    "from src.Python.ICGC_data_parser import SSM_Reader\n",
    "\n",
    "def recurrence_data(mutation, parser):\n",
    "    \"Fetch the recurrence data for a given mutation.\"\n",
    "    recurrence_by_project = {occ.project_code:{'affected_donors': occ.affected_donors,\n",
    "                                               'tested_donors': occ.tested_donors} \n",
    "                                     for occ in parser(mutation)}\n",
    "    return {'mutation_id' : mutation.ID,\n",
    "            'proj_recurrence' : recurrence_by_project,\n",
    "            'total_affected_donors': mutation.INFO['affected_donors'],\n",
    "            'total_tested_donors': mutation.INFO['tested_donors']}\n",
    "# ---\n",
    "\n",
    "\n",
    "def recurrence_distribution(filename, project=None, filters=None):\n",
    "    \"\"\"Searches through input file for mutations related to \n",
    "    the given cancer project.\n",
    "\n",
    "    Gets the mutation recurrence distribution for the data \n",
    "    (i.e. how many mutations are repeated in ``n`` different \n",
    "    patients?)\n",
    "    \"\"\"\n",
    "    if filters is None:\n",
    "        filters = []\n",
    "    \n",
    "    # Open mutations file\n",
    "    reader = SSM_Reader(filename=filename)\n",
    "    OCCURRENCES = reader.subfield_parser('OCCURRENCE')\n",
    "\n",
    "    # Initialize distribution\n",
    "    tested_donors = None\n",
    "    distribution = Counter()\n",
    "\n",
    "    for record in reader.parse(filters=[project]+filters):\n",
    "        recurrence = recurrence_data(record, OCCURRENCES)\n",
    "\n",
    "        if project: # When a project is specified\n",
    "            proj_recurrence = recurrence['proj_recurrence'][project]\n",
    "            proj_affected = proj_recurrence['affected_donors']\n",
    "            distribution[int(proj_affected)] += 1\n",
    "\n",
    "            if tested_donors is None:\n",
    "                tested_donors = proj_recurrence['tested_donors']\n",
    "                \n",
    "        else: # When all projects are parsed\n",
    "            total_affected = recurrence['total_affected_donors']\n",
    "            distribution[int(total_affected)] += 1\n",
    "\n",
    "            if tested_donors is None:\n",
    "                tested_donors = recurrence['total_tested_donors']\n",
    "                \n",
    "    return distribution, tested_donors\n",
    "# ---\n",
    "\n",
    "distribution, tested_donors = recurrence_distribution('data/ssm_sample.vcf')"
   ]
  },
  {
   "cell_type": "code",
   "execution_count": 52,
   "metadata": {},
   "outputs": [
    {
     "data": {
      "text/plain": [
       "99741"
      ]
     },
     "execution_count": 52,
     "metadata": {},
     "output_type": "execute_result"
    }
   ],
   "source": [
    "sum(distribution.values()) # The number of mutations analyzed"
   ]
  },
  {
   "cell_type": "code",
   "execution_count": 53,
   "metadata": {},
   "outputs": [
    {
     "data": {
      "text/plain": [
       "Counter({1: 92085,\n",
       "         2: 6042,\n",
       "         3: 987,\n",
       "         4: 326,\n",
       "         5: 132,\n",
       "         6: 61,\n",
       "         7: 35,\n",
       "         8: 26,\n",
       "         9: 15,\n",
       "         10: 12,\n",
       "         11: 10,\n",
       "         12: 2,\n",
       "         13: 1,\n",
       "         14: 3,\n",
       "         15: 2,\n",
       "         20: 1,\n",
       "         21: 1})"
      ]
     },
     "execution_count": 53,
     "metadata": {},
     "output_type": "execute_result"
    }
   ],
   "source": [
    "distribution"
   ]
  },
  {
   "cell_type": "code",
   "execution_count": 54,
   "metadata": {},
   "outputs": [],
   "source": [
    "%matplotlib inline\n",
    "\n",
    "import matplotlib.pyplot as plt\n",
    "import seaborn as sns\n",
    "\n",
    "sns.set()"
   ]
  },
  {
   "cell_type": "code",
   "execution_count": 55,
   "metadata": {},
   "outputs": [
    {
     "data": {
      "image/png": "[encoded data removed]",
      "text/plain": [
       "<matplotlib.figure.Figure at 0x7f0c82954f98>"
      ]
     },
     "metadata": {},
     "output_type": "display_data"
    }
   ],
   "source": [
    "x = sorted(distribution.keys())\n",
    "y = [distribution[i] for i in x]\n",
    "\n",
    "plt.plot(x, y, marker='o')\n",
    "plt.yscale('log')\n",
    "plt.xscale('log')\n",
    "plt.title('Mutation recurrence distribution')\n",
    "plt.xlabel('recurrence')\n",
    "plt.ylabel('no. of mutations')\n",
    "plt.show()"
   ]
  },
  {
   "cell_type": "code",
   "execution_count": null,
   "metadata": {},
   "outputs": [],
   "source": []
  }
 ],
 "metadata": {
  "kernelspec": {
   "display_name": "Python 3",
   "language": "python",
   "name": "python3"
  },
  "language_info": {
   "codemirror_mode": {
    "name": "ipython",
    "version": 3
   },
   "file_extension": ".py",
   "mimetype": "text/x-python",
   "name": "python",
   "nbconvert_exporter": "python",
   "pygments_lexer": "ipython3",
   "version": "3.6.1"
  }
 },
 "nbformat": 4,
 "nbformat_minor": 2
}
