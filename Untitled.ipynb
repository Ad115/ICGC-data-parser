{
 "cells": [
  {
   "cell_type": "code",
   "execution_count": 6,
   "metadata": {},
   "outputs": [],
   "source": [
    "import src.Python.ICGC_data_parser as dp\n",
    "import src.Python.ICGC_data_parser.ensembl as ensembl"
   ]
  },
  {
   "cell_type": "code",
   "execution_count": 7,
   "metadata": {},
   "outputs": [],
   "source": [
    "client = ensembl.Client()"
   ]
  },
  {
   "cell_type": "code",
   "execution_count": 8,
   "metadata": {},
   "outputs": [
    {
     "data": {
      "text/plain": [
       "{'mappings': [{'mapped': {'assembly': 'GRCh38',\n",
       "    'coord_system': 'chromosome',\n",
       "    'end': 1039365,\n",
       "    'seq_region_name': 'X',\n",
       "    'start': 1039265,\n",
       "    'strand': 1},\n",
       "   'original': {'assembly': 'GRCh37',\n",
       "    'coord_system': 'chromosome',\n",
       "    'end': 1000100,\n",
       "    'seq_region_name': 'X',\n",
       "    'start': 1000000,\n",
       "    'strand': 1}}]}"
      ]
     },
     "execution_count": 8,
     "metadata": {},
     "output_type": "execute_result"
    }
   ],
   "source": [
    "client.assembly_map(region=ensembl.region_str('X', start=1000000, end=1000100),\n",
    "                    from_assembly='GRCh37',\n",
    "                    to_assembly='GRCh38')"
   ]
  },
  {
   "cell_type": "code",
   "execution_count": 9,
   "metadata": {},
   "outputs": [
    {
     "data": {
      "text/plain": [
       "{'assembly_accession': 'GCA_000001405.25',\n",
       " 'assembly_date': '2013-12',\n",
       " 'assembly_name': 'GRCh38.p10',\n",
       " 'coord_system_versions': ['GRCh38', 'GRCh37', 'NCBI36', 'NCBI35', 'NCBI34'],\n",
       " 'default_coord_system_version': 'GRCh38',\n",
       " 'genebuild_initial_release_date': '2014-07',\n",
       " 'genebuild_last_geneset_update': '2017-06',\n",
       " 'genebuild_method': 'full_genebuild',\n",
       " 'genebuild_start_date': '2014-01-Ensembl',\n",
       " 'karyotype': ['1',\n",
       "  '2',\n",
       "  '3',\n",
       "  '4',\n",
       "  '5',\n",
       "  '6',\n",
       "  '7',\n",
       "  '8',\n",
       "  '9',\n",
       "  '10',\n",
       "  '11',\n",
       "  '12',\n",
       "  '13',\n",
       "  '14',\n",
       "  '15',\n",
       "  '16',\n",
       "  '17',\n",
       "  '18',\n",
       "  '19',\n",
       "  '20',\n",
       "  '21',\n",
       "  '22',\n",
       "  'X',\n",
       "  'Y',\n",
       "  'MT'],\n",
       " 'top_level_region': [{'coord_system': 'scaffold',\n",
       "   'length': 71251,\n",
       "   'name': 'KI270757.1'},\n",
       "  {'coord_system': 'scaffold', 'length': 157432, 'name': 'KI270741.1'},\n",
       "  {'coord_system': 'scaffold', 'length': 79590, 'name': 'KI270756.1'},\n",
       "  {'coord_system': 'scaffold', 'length': 112551, 'name': 'KI270730.1'},\n",
       "  {'coord_system': 'scaffold', 'length': 73985, 'name': 'KI270739.1'},\n",
       "  {'coord_system': 'scaffold', 'length': 99375, 'name': 'KI270738.1'},\n",
       "  {'coord_system': 'scaffold', 'length': 103838, 'name': 'KI270737.1'},\n",
       "  {'coord_system': 'scaffold', 'length': 998, 'name': 'KI270312.1'},\n",
       "  {'coord_system': 'scaffold', 'length': 5796, 'name': 'KI270591.1'},\n",
       "  {'coord_system': 'scaffold', 'length': 2805, 'name': 'KI270371.1'},\n",
       "  {'coord_system': 'scaffold', 'length': 990, 'name': 'KI270385.1'},\n",
       "  {'coord_system': 'scaffold', 'length': 1930, 'name': 'KI270381.1'},\n",
       "  {'coord_system': 'scaffold', 'length': 3253, 'name': 'KI270517.1'},\n",
       "  {'coord_system': 'scaffold', 'length': 1951, 'name': 'KI270508.1'},\n",
       "  {'coord_system': 'scaffold', 'length': 993, 'name': 'KI270539.1'},\n",
       "  {'coord_system': 'scaffold', 'length': 3041, 'name': 'KI270593.1'},\n",
       "  {'coord_system': 'scaffold', 'length': 2168, 'name': 'KI270530.1'},\n",
       "  {'coord_system': 'scaffold', 'length': 6158, 'name': 'KI270588.1'},\n",
       "  {'coord_system': 'scaffold', 'length': 971, 'name': 'KI270392.1'},\n",
       "  {'coord_system': 'scaffold', 'length': 2378, 'name': 'KI270375.1'},\n",
       "  {'coord_system': 'scaffold', 'length': 1040, 'name': 'KI270329.1'},\n",
       "  {'coord_system': 'scaffold', 'length': 1026, 'name': 'KI270336.1'},\n",
       "  {'coord_system': 'scaffold', 'length': 5353, 'name': 'KI270507.1'},\n",
       "  {'coord_system': 'scaffold', 'length': 981, 'name': 'KI270423.1'},\n",
       "  {'coord_system': 'scaffold', 'length': 4215, 'name': 'KI270382.1'},\n",
       "  {'coord_system': 'scaffold', 'length': 1750, 'name': 'KI270383.1'},\n",
       "  {'coord_system': 'scaffold', 'length': 4055, 'name': 'KI270468.1'},\n",
       "  {'coord_system': 'scaffold', 'length': 1045, 'name': 'KI270379.1'},\n",
       "  {'coord_system': 'scaffold', 'length': 6361, 'name': 'KI270515.1'},\n",
       "  {'coord_system': 'scaffold', 'length': 6504, 'name': 'KI270582.1'},\n",
       "  {'coord_system': 'scaffold', 'length': 1444, 'name': 'KI270316.1'},\n",
       "  {'coord_system': 'scaffold', 'length': 8127, 'name': 'KI270511.1'},\n",
       "  {'coord_system': 'scaffold', 'length': 1233, 'name': 'KI270466.1'},\n",
       "  {'coord_system': 'scaffold', 'length': 2186, 'name': 'KI270518.1'},\n",
       "  {'coord_system': 'scaffold', 'length': 1553, 'name': 'KI270580.1'},\n",
       "  {'coord_system': 'scaffold', 'length': 1428, 'name': 'KI270340.1'},\n",
       "  {'coord_system': 'scaffold', 'length': 1445, 'name': 'KI270422.1'},\n",
       "  {'coord_system': 'scaffold', 'length': 4513, 'name': 'KI270584.1'},\n",
       "  {'coord_system': 'scaffold', 'length': 2983, 'name': 'KI270528.1'},\n",
       "  {'coord_system': 'scaffold', 'length': 1652, 'name': 'KI270330.1'},\n",
       "  {'coord_system': 'scaffold', 'length': 2318, 'name': 'KI270509.1'},\n",
       "  {'coord_system': 'scaffold', 'length': 2969, 'name': 'KI270587.1'},\n",
       "  {'coord_system': 'scaffold', 'length': 970, 'name': 'KI270394.1'},\n",
       "  {'coord_system': 'scaffold', 'length': 1048, 'name': 'KI270335.1'},\n",
       "  {'coord_system': 'scaffold', 'length': 1650, 'name': 'KI270372.1'},\n",
       "  {'coord_system': 'scaffold', 'length': 1216, 'name': 'KI270388.1'},\n",
       "  {'coord_system': 'scaffold', 'length': 1201, 'name': 'KI270310.1'},\n",
       "  {'coord_system': 'scaffold', 'length': 5674, 'name': 'KI270522.1'},\n",
       "  {'coord_system': 'scaffold', 'length': 8320, 'name': 'KI270366.1'},\n",
       "  {'coord_system': 'scaffold', 'length': 1368, 'name': 'KI270334.1'},\n",
       "  {'coord_system': 'scaffold', 'length': 1179, 'name': 'KI270412.1'},\n",
       "  {'coord_system': 'scaffold', 'length': 2274, 'name': 'KI270302.1'},\n",
       "  {'coord_system': 'scaffold', 'length': 7046, 'name': 'KI270581.1'},\n",
       "  {'coord_system': 'scaffold', 'length': 2140, 'name': 'KI270424.1'},\n",
       "  {'coord_system': 'scaffold', 'length': 1599, 'name': 'KI270548.1'},\n",
       "  {'coord_system': 'scaffold', 'length': 1880, 'name': 'KI270396.1'},\n",
       "  {'coord_system': 'scaffold', 'length': 2656, 'name': 'KI270374.1'},\n",
       "  {'coord_system': 'scaffold', 'length': 1143, 'name': 'KI270395.1'},\n",
       "  {'coord_system': 'scaffold', 'length': 1537, 'name': 'KI270387.1'},\n",
       "  {'coord_system': 'scaffold', 'length': 2145, 'name': 'KI270418.1'},\n",
       "  {'coord_system': 'scaffold', 'length': 1298, 'name': 'KI270389.1'},\n",
       "  {'coord_system': 'scaffold', 'length': 1048, 'name': 'KI270378.1'},\n",
       "  {'coord_system': 'scaffold', 'length': 1029, 'name': 'KI270419.1'},\n",
       "  {'coord_system': 'scaffold', 'length': 1202, 'name': 'KI270544.1'},\n",
       "  {'coord_system': 'scaffold', 'length': 2415, 'name': 'KI270510.1'},\n",
       "  {'coord_system': 'scaffold', 'length': 7992, 'name': 'KI270448.1'},\n",
       "  {'coord_system': 'scaffold', 'length': 4685, 'name': 'KI270590.1'},\n",
       "  {'coord_system': 'scaffold', 'length': 1899, 'name': 'KI270529.1'},\n",
       "  {'coord_system': 'scaffold', 'length': 1361, 'name': 'KI270429.1'},\n",
       "  {'coord_system': 'scaffold', 'length': 1136, 'name': 'KI270376.1'},\n",
       "  {'coord_system': 'scaffold', 'length': 3530, 'name': 'KI270362.1'},\n",
       "  {'coord_system': 'scaffold', 'length': 1400, 'name': 'KI270583.1'},\n",
       "  {'coord_system': 'scaffold', 'length': 7642, 'name': 'KI270521.1'},\n",
       "  {'coord_system': 'scaffold', 'length': 1472, 'name': 'KI270305.1'},\n",
       "  {'coord_system': 'scaffold', 'length': 1300, 'name': 'KI270516.1'},\n",
       "  {'coord_system': 'scaffold', 'length': 1121, 'name': 'KI270337.1'},\n",
       "  {'coord_system': 'scaffold', 'length': 1884, 'name': 'KI270425.1'},\n",
       "  {'coord_system': 'scaffold', 'length': 1658, 'name': 'KI270384.1'},\n",
       "  {'coord_system': 'scaffold', 'length': 1308, 'name': 'KI270393.1'},\n",
       "  {'coord_system': 'scaffold', 'length': 1451, 'name': 'KI270373.1'},\n",
       "  {'coord_system': 'scaffold', 'length': 1484, 'name': 'KI270391.1'},\n",
       "  {'coord_system': 'scaffold', 'length': 1788, 'name': 'KI270386.1'},\n",
       "  {'coord_system': 'scaffold', 'length': 1428, 'name': 'KI270338.1'},\n",
       "  {'coord_system': 'scaffold', 'length': 1803, 'name': 'KI270363.1'},\n",
       "  {'coord_system': 'scaffold', 'length': 91309, 'name': 'KI270538.1'},\n",
       "  {'coord_system': 'scaffold', 'length': 3920, 'name': 'KI270467.1'},\n",
       "  {'coord_system': 'scaffold', 'length': 1774, 'name': 'KI270465.1'},\n",
       "  {'coord_system': 'scaffold', 'length': 4416, 'name': 'KI270320.1'},\n",
       "  {'coord_system': 'scaffold', 'length': 1942, 'name': 'KI270303.1'},\n",
       "  {'coord_system': 'scaffold', 'length': 2646, 'name': 'KI270411.1'},\n",
       "  {'coord_system': 'scaffold', 'length': 2276, 'name': 'KI270315.1'},\n",
       "  {'coord_system': 'scaffold', 'length': 12399, 'name': 'KI270311.1'},\n",
       "  {'coord_system': 'scaffold', 'length': 21476, 'name': 'KI270322.1'},\n",
       "  {'coord_system': 'scaffold', 'length': 2699, 'name': 'KI270333.1'},\n",
       "  {'coord_system': 'scaffold', 'length': 37690, 'name': 'KI270317.1'},\n",
       "  {'coord_system': 'scaffold', 'length': 2165, 'name': 'KI270304.1'},\n",
       "  {'coord_system': 'scaffold', 'length': 2043, 'name': 'KI270417.1'},\n",
       "  {'coord_system': 'scaffold', 'length': 2321, 'name': 'KI270420.1'},\n",
       "  {'coord_system': 'scaffold', 'length': 2387, 'name': 'KI270390.1'},\n",
       "  {'coord_system': 'scaffold', 'length': 44474, 'name': 'KI270589.1'},\n",
       "  {'coord_system': 'scaffold', 'length': 2489, 'name': 'KI270414.1'},\n",
       "  {'coord_system': 'scaffold', 'length': 31033, 'name': 'KI270579.1'},\n",
       "  {'coord_system': 'scaffold', 'length': 2855, 'name': 'KI270364.1'},\n",
       "  {'coord_system': 'scaffold', 'length': 392061, 'name': 'KI270442.1'},\n",
       "  {'coord_system': 'scaffold', 'length': 280839, 'name': 'KI270729.1'},\n",
       "  {'coord_system': 'scaffold', 'length': 181920, 'name': 'KI270736.1'},\n",
       "  {'coord_system': 'scaffold', 'length': 112505, 'name': 'KI270438.1'},\n",
       "  {'coord_system': 'scaffold', 'length': 138126, 'name': 'KI270519.1'},\n",
       "  {'coord_system': 'scaffold', 'length': 22689, 'name': 'KI270512.1'},\n",
       "  {'coord_system': 'scaffold', 'length': 92983, 'name': 'KI270435.1'},\n",
       "  {'coord_system': 'scaffold', 'length': 42210, 'name': 'KI270711.1'},\n",
       "  {'coord_system': 'scaffold', 'length': 201709, 'name': 'GL000009.2'},\n",
       "  {'coord_system': 'scaffold', 'length': 155397, 'name': 'GL000221.1'},\n",
       "  {'coord_system': 'scaffold', 'length': 172810, 'name': 'KI270725.1'},\n",
       "  {'coord_system': 'scaffold', 'length': 37240, 'name': 'KI270740.1'},\n",
       "  {'coord_system': 'scaffold', 'length': 150742, 'name': 'KI270751.1'},\n",
       "  {'coord_system': 'scaffold', 'length': 66486, 'name': 'KI270746.1'},\n",
       "  {'coord_system': 'scaffold', 'length': 164239, 'name': 'GL000213.1'},\n",
       "  {'coord_system': 'scaffold', 'length': 168472, 'name': 'KI270744.1'},\n",
       "  {'coord_system': 'scaffold', 'length': 161802, 'name': 'GL000220.1'},\n",
       "  {'coord_system': 'scaffold', 'length': 42811, 'name': 'KI270735.1'},\n",
       "  {'coord_system': 'scaffold', 'length': 165050, 'name': 'KI270734.1'},\n",
       "  {'coord_system': 'scaffold', 'length': 66860, 'name': 'KI270709.1'},\n",
       "  {'coord_system': 'scaffold', 'length': 93321, 'name': 'KI270748.1'},\n",
       "  {'coord_system': 'scaffold', 'length': 41891, 'name': 'KI270745.1'},\n",
       "  {'coord_system': 'scaffold', 'length': 92689, 'name': 'GL000208.1'},\n",
       "  {'coord_system': 'scaffold', 'length': 179693, 'name': 'GL000224.1'},\n",
       "  {'coord_system': 'scaffold', 'length': 27745, 'name': 'KI270752.1'},\n",
       "  {'coord_system': 'scaffold', 'length': 137718, 'name': 'GL000214.1'},\n",
       "  {'coord_system': 'scaffold', 'length': 186739, 'name': 'KI270742.1'},\n",
       "  {'coord_system': 'scaffold', 'length': 161471, 'name': 'KI270715.1'},\n",
       "  {'coord_system': 'scaffold', 'length': 182896, 'name': 'GL000195.1'},\n",
       "  {'coord_system': 'scaffold', 'length': 62944, 'name': 'KI270753.1'},\n",
       "  {'coord_system': 'scaffold', 'length': 194050, 'name': 'KI270722.1'},\n",
       "  {'coord_system': 'scaffold', 'length': 176845, 'name': 'KI270719.1'},\n",
       "  {'coord_system': 'scaffold', 'length': 36723, 'name': 'KI270755.1'},\n",
       "  {'coord_system': 'scaffold', 'length': 176043, 'name': 'KI270712.1'},\n",
       "  {'coord_system': 'scaffold', 'length': 41543, 'name': 'KI270732.1'},\n",
       "  {'coord_system': 'scaffold', 'length': 127682, 'name': 'KI270708.1'},\n",
       "  {'coord_system': 'scaffold', 'length': 150754, 'name': 'KI270731.1'},\n",
       "  {'coord_system': 'scaffold', 'length': 39050, 'name': 'KI270720.1'},\n",
       "  {'coord_system': 'scaffold', 'length': 191469, 'name': 'GL000194.1'},\n",
       "  {'coord_system': 'scaffold', 'length': 40745, 'name': 'KI270713.1'},\n",
       "  {'coord_system': 'scaffold', 'length': 153799, 'name': 'KI270716.1'},\n",
       "  {'coord_system': 'scaffold', 'length': 38115, 'name': 'KI270723.1'},\n",
       "  {'coord_system': 'scaffold', 'length': 15008, 'name': 'GL000226.1'},\n",
       "  {'coord_system': 'scaffold', 'length': 179198, 'name': 'GL000219.1'},\n",
       "  {'coord_system': 'scaffold', 'length': 148850, 'name': 'KI270750.1'},\n",
       "  {'coord_system': 'scaffold', 'length': 39555, 'name': 'KI270724.1'},\n",
       "  {'coord_system': 'scaffold', 'length': 32032, 'name': 'KI270707.1'},\n",
       "  {'coord_system': 'scaffold', 'length': 40191, 'name': 'KI270754.1'},\n",
       "  {'coord_system': 'scaffold', 'length': 175055, 'name': 'KI270706.1'},\n",
       "  {'coord_system': 'scaffold', 'length': 161147, 'name': 'GL000218.1'},\n",
       "  {'coord_system': 'scaffold', 'length': 41717, 'name': 'KI270714.1'},\n",
       "  {'coord_system': 'scaffold', 'length': 179772, 'name': 'KI270733.1'},\n",
       "  {'coord_system': 'scaffold', 'length': 100316, 'name': 'KI270721.1'},\n",
       "  {'coord_system': 'scaffold', 'length': 158759, 'name': 'KI270749.1'},\n",
       "  {'coord_system': 'scaffold', 'length': 176608, 'name': 'GL000216.2'},\n",
       "  {'coord_system': 'scaffold', 'length': 185591, 'name': 'GL000205.2'},\n",
       "  {'coord_system': 'scaffold', 'length': 38054, 'name': 'KI270718.1'},\n",
       "  {'coord_system': 'scaffold', 'length': 40062, 'name': 'KI270717.1'},\n",
       "  {'coord_system': 'scaffold', 'length': 210658, 'name': 'KI270743.1'},\n",
       "  {'coord_system': 'scaffold', 'length': 209709, 'name': 'GL000008.2'},\n",
       "  {'coord_system': 'scaffold', 'length': 40176, 'name': 'KI270710.1'},\n",
       "  {'coord_system': 'scaffold', 'length': 211173, 'name': 'GL000225.1'},\n",
       "  {'coord_system': 'scaffold', 'length': 198735, 'name': 'KI270747.1'},\n",
       "  {'coord_system': 'scaffold', 'length': 43739, 'name': 'KI270726.1'},\n",
       "  {'coord_system': 'scaffold', 'length': 1872759, 'name': 'KI270728.1'},\n",
       "  {'coord_system': 'chromosome', 'length': 57227415, 'name': 'Y'},\n",
       "  {'coord_system': 'chromosome', 'length': 64444167, 'name': '20'},\n",
       "  {'coord_system': 'chromosome', 'length': 156040895, 'name': 'X'},\n",
       "  {'coord_system': 'chromosome', 'length': 114364328, 'name': '13'},\n",
       "  {'coord_system': 'chromosome', 'length': 50818468, 'name': '22'},\n",
       "  {'coord_system': 'chromosome', 'length': 133797422, 'name': '10'},\n",
       "  {'coord_system': 'chromosome', 'length': 170805979, 'name': '6'},\n",
       "  {'coord_system': 'chromosome', 'length': 58617616, 'name': '19'},\n",
       "  {'coord_system': 'chromosome', 'length': 107043718, 'name': '14'},\n",
       "  {'coord_system': 'chromosome', 'length': 80373285, 'name': '18'},\n",
       "  {'coord_system': 'chromosome', 'length': 242193529, 'name': '2'},\n",
       "  {'coord_system': 'chromosome', 'length': 190214555, 'name': '4'},\n",
       "  {'coord_system': 'chromosome', 'length': 46709983, 'name': '21'},\n",
       "  {'coord_system': 'chromosome', 'length': 138394717, 'name': '9'},\n",
       "  {'coord_system': 'chromosome', 'length': 135086622, 'name': '11'},\n",
       "  {'coord_system': 'chromosome', 'length': 83257441, 'name': '17'},\n",
       "  {'coord_system': 'chromosome', 'length': 145138636, 'name': '8'},\n",
       "  {'coord_system': 'chromosome', 'length': 159345973, 'name': '7'},\n",
       "  {'coord_system': 'chromosome', 'length': 101991189, 'name': '15'},\n",
       "  {'coord_system': 'chromosome', 'length': 133275309, 'name': '12'},\n",
       "  {'coord_system': 'chromosome', 'length': 248956422, 'name': '1'},\n",
       "  {'coord_system': 'chromosome', 'length': 90338345, 'name': '16'},\n",
       "  {'coord_system': 'chromosome', 'length': 181538259, 'name': '5'},\n",
       "  {'coord_system': 'chromosome', 'length': 198295559, 'name': '3'},\n",
       "  {'coord_system': 'chromosome', 'length': 16569, 'name': 'MT'},\n",
       "  {'coord_system': 'scaffold', 'length': 448248, 'name': 'KI270727.1'}]}"
      ]
     },
     "execution_count": 9,
     "metadata": {},
     "output_type": "execute_result"
    }
   ],
   "source": [
    "assembly_info = client.assembly_info()\n",
    "assembly_info"
   ]
  },
  {
   "cell_type": "code",
   "execution_count": 10,
   "metadata": {},
   "outputs": [
    {
     "data": {
      "text/plain": [
       "[{'coord_system': 'chromosome', 'length': 57227415, 'name': 'Y'},\n",
       " {'coord_system': 'chromosome', 'length': 64444167, 'name': '20'},\n",
       " {'coord_system': 'chromosome', 'length': 156040895, 'name': 'X'},\n",
       " {'coord_system': 'chromosome', 'length': 114364328, 'name': '13'},\n",
       " {'coord_system': 'chromosome', 'length': 50818468, 'name': '22'},\n",
       " {'coord_system': 'chromosome', 'length': 133797422, 'name': '10'},\n",
       " {'coord_system': 'chromosome', 'length': 170805979, 'name': '6'},\n",
       " {'coord_system': 'chromosome', 'length': 58617616, 'name': '19'},\n",
       " {'coord_system': 'chromosome', 'length': 107043718, 'name': '14'},\n",
       " {'coord_system': 'chromosome', 'length': 80373285, 'name': '18'},\n",
       " {'coord_system': 'chromosome', 'length': 242193529, 'name': '2'},\n",
       " {'coord_system': 'chromosome', 'length': 190214555, 'name': '4'},\n",
       " {'coord_system': 'chromosome', 'length': 46709983, 'name': '21'},\n",
       " {'coord_system': 'chromosome', 'length': 138394717, 'name': '9'},\n",
       " {'coord_system': 'chromosome', 'length': 135086622, 'name': '11'},\n",
       " {'coord_system': 'chromosome', 'length': 83257441, 'name': '17'},\n",
       " {'coord_system': 'chromosome', 'length': 145138636, 'name': '8'},\n",
       " {'coord_system': 'chromosome', 'length': 159345973, 'name': '7'},\n",
       " {'coord_system': 'chromosome', 'length': 101991189, 'name': '15'},\n",
       " {'coord_system': 'chromosome', 'length': 133275309, 'name': '12'},\n",
       " {'coord_system': 'chromosome', 'length': 248956422, 'name': '1'},\n",
       " {'coord_system': 'chromosome', 'length': 90338345, 'name': '16'},\n",
       " {'coord_system': 'chromosome', 'length': 181538259, 'name': '5'},\n",
       " {'coord_system': 'chromosome', 'length': 198295559, 'name': '3'},\n",
       " {'coord_system': 'chromosome', 'length': 16569, 'name': 'MT'}]"
      ]
     },
     "execution_count": 10,
     "metadata": {},
     "output_type": "execute_result"
    }
   ],
   "source": [
    "chrom_info = [item for item in assembly_info['top_level_region']\n",
    "                  if item['coord_system'] == 'chromosome']\n",
    "chrom_info"
   ]
  },
  {
   "cell_type": "code",
   "execution_count": 8,
   "metadata": {},
   "outputs": [
    {
     "name": "stdout",
     "output_type": "stream",
     "text": [
      "Querying chrom Y\n",
      "Querying chrom 20\n",
      "Querying chrom X\n",
      "Querying chrom 13\n",
      "Querying chrom 22\n",
      "Querying chrom 10\n",
      "Querying chrom 6\n",
      "Querying chrom 19\n",
      "Querying chrom 14\n",
      "Querying chrom 18\n",
      "Querying chrom 2\n",
      "Querying chrom 4\n",
      "Querying chrom 21\n",
      "Querying chrom 9\n",
      "Querying chrom 11\n",
      "Querying chrom 17\n",
      "Querying chrom 8\n",
      "Querying chrom 7\n",
      "Querying chrom 15\n",
      "Querying chrom 12\n",
      "Querying chrom 1\n",
      "Querying chrom 16\n",
      "Querying chrom 5\n",
      "Querying chrom 3\n",
      "Querying chrom MT\n"
     ]
    }
   ],
   "source": [
    "from collections import defaultdict\n",
    "assembly_map = defaultdict(list)\n",
    "\n",
    "for chrom in chrom_info:\n",
    "    print(\"Querying chrom\", chrom['name'])\n",
    "    region = ensembl.region_str(chrom['name'], 1, chrom['length'])\n",
    "    map_ = client.assembly_map(region, \n",
    "                               from_assembly='GRCh37', \n",
    "                               to_assembly='GRCh38')\n",
    "    \n",
    "    for item in map_['mappings']:\n",
    "        from_ = item['original']\n",
    "        from_region = from_['start'],from_['end']\n",
    "        \n",
    "        to = item['mapped']\n",
    "        to_region = to['start'],to['end']\n",
    "        \n",
    "        assembly_map[chrom['name']].append((from_region,to_region))\n",
    "        \n",
    "    assembly_map[chrom['name']].sort(key=lambda x: x[0][0])"
   ]
  },
  {
   "cell_type": "code",
   "execution_count": 9,
   "metadata": {},
   "outputs": [
    {
     "data": {
      "text/plain": [
       "25"
      ]
     },
     "execution_count": 9,
     "metadata": {},
     "output_type": "execute_result"
    }
   ],
   "source": [
    "len(assembly_map)"
   ]
  },
  {
   "cell_type": "code",
   "execution_count": 10,
   "metadata": {},
   "outputs": [
    {
     "name": "stdout",
     "output_type": "stream",
     "text": [
      "181\n",
      "203\n",
      "3171\n",
      "46\n",
      "707\n",
      "553\n",
      "1304\n",
      "920\n",
      "1350\n",
      "86\n",
      "830\n",
      "271\n",
      "242\n",
      "930\n",
      "418\n",
      "364\n",
      "567\n",
      "1656\n",
      "737\n",
      "105\n",
      "2862\n",
      "46\n",
      "123\n",
      "465\n",
      "1\n"
     ]
    }
   ],
   "source": [
    "for chrom in assembly_map:\n",
    "    print(len(assembly_map[chrom]))"
   ]
  },
  {
   "cell_type": "code",
   "execution_count": 12,
   "metadata": {},
   "outputs": [
    {
     "data": {
      "text/plain": [
       "[((10001, 177417), (10001, 177417)),\n",
       " ((227418, 267719), (257667, 297968)),\n",
       " ((317720, 471368), (347969, 501617)),\n",
       " ((521369, 1566075), (585989, 1630695)),\n",
       " ((1566076, 1569784), (1630697, 1634405)),\n",
       " ((1569785, 1570918), (1634409, 1635542)),\n",
       " ((1570919, 1570922), (1635547, 1635550)),\n",
       " ((1570923, 1574299), (1635561, 1638937)),\n",
       " ((1574300, 1583669), (1638939, 1648308)),\n",
       " ((1583670, 1583878), (1648310, 1648518))]"
      ]
     },
     "execution_count": 12,
     "metadata": {},
     "output_type": "execute_result"
    }
   ],
   "source": [
    "assembly_map['1'][:10]"
   ]
  },
  {
   "cell_type": "markdown",
   "metadata": {},
   "source": [
    "# Trying to minimize queries using an interval tree"
   ]
  },
  {
   "cell_type": "code",
   "execution_count": 11,
   "metadata": {},
   "outputs": [],
   "source": [
    "import intervaltree as it"
   ]
  },
  {
   "cell_type": "code",
   "execution_count": 41,
   "metadata": {},
   "outputs": [
    {
     "name": "stdout",
     "output_type": "stream",
     "text": [
      "Querying chrom Y\n",
      "Querying chrom 20\n",
      "Querying chrom X\n",
      "Querying chrom 13\n",
      "Querying chrom 22\n",
      "Querying chrom 10\n",
      "Querying chrom 6\n",
      "Querying chrom 19\n",
      "Querying chrom 14\n",
      "Querying chrom 18\n",
      "Querying chrom 2\n",
      "Querying chrom 4\n",
      "Querying chrom 21\n",
      "Querying chrom 9\n",
      "Querying chrom 11\n",
      "Querying chrom 17\n",
      "Querying chrom 8\n",
      "Querying chrom 7\n",
      "Querying chrom 15\n",
      "Querying chrom 12\n",
      "Querying chrom 1\n",
      "Querying chrom 16\n",
      "Querying chrom 5\n",
      "Querying chrom 3\n",
      "Querying chrom MT\n"
     ]
    }
   ],
   "source": [
    "from collections import defaultdict\n",
    "assembly_map = defaultdict(it.IntervalTree)\n",
    "\n",
    "for chrom in chrom_info:\n",
    "    print(\"Querying chrom\", chrom['name'])\n",
    "    region = ensembl.region_str(chrom['name'], \n",
    "                                start=1, end=chrom['length'])\n",
    "    map_ = client.assembly_map(region, \n",
    "                               from_assembly='GRCh37', \n",
    "                               to_assembly='GRCh38')\n",
    "    \n",
    "    for item in map_['mappings']:\n",
    "         # Assemble interval tree\n",
    "        from_ = item['original']\n",
    "        to = item['mapped']\n",
    "        \n",
    "        # Need to modify to represent a half open\n",
    "        # interval (as [a,b) instead of [a,b])\n",
    "        from_region = from_['start'],from_['end']+1\n",
    "        \n",
    "        if to['strand'] == +1:\n",
    "            to_region = to['start'],to['end']\n",
    "        else:\n",
    "            # Handle mappings to the reverse strand\n",
    "            chrom_len = chrom['length']\n",
    "            # Visual aid to the transformation:\n",
    "            #  1  2  3  4  5  6  7  8  9 10\n",
    "            #  |  |  |  |  |  |  |  |  |  |\n",
    "            # 10 9  8  7  6  5  4  3  2  1\n",
    "            to_region = (chrom_len - to['end'] + 1, \n",
    "                         chrom_len - to['start'] + 1)\n",
    "        \n",
    "        try:\n",
    "            assembly_map[chrom['name']].addi(*from_region, \n",
    "                                         data=to_region)\n",
    "        except ValueError:\n",
    "            print(item)\n",
    "            raise"
   ]
  },
  {
   "cell_type": "code",
   "execution_count": 22,
   "metadata": {},
   "outputs": [
    {
     "name": "stdout",
     "output_type": "stream",
     "text": [
      "Position GRCh37:  100141201 maps to GRCh38 interval:  Interval(94094670, 103766424, (93629114, 103300867))\n",
      "Calculated GRCh38 position:  99675645\n",
      "Ensembl says this position really is:  99675645\n",
      "Position GRCh37:  100160548 maps to GRCh38 interval:  Interval(94094670, 103766424, (93629114, 103300867))\n",
      "Calculated GRCh38 position:  99694992\n",
      "Ensembl says this position really is:  99694992\n",
      "Position GRCh37:  100638179 maps to GRCh38 interval:  Interval(94094670, 103766424, (93629114, 103300867))\n",
      "Calculated GRCh38 position:  100172623\n",
      "Ensembl says this position really is:  100172623\n",
      "Position GRCh37:  101352655 maps to GRCh38 interval:  Interval(94094670, 103766424, (93629114, 103300867))\n",
      "Calculated GRCh38 position:  100887099\n",
      "Ensembl says this position really is:  100887099\n",
      "Position GRCh37:  101354415 maps to GRCh38 interval:  Interval(94094670, 103766424, (93629114, 103300867))\n",
      "Calculated GRCh38 position:  100888859\n",
      "Ensembl says this position really is:  100888859\n",
      "Position GRCh37:  102192768 maps to GRCh38 interval:  Interval(94094670, 103766424, (93629114, 103300867))\n",
      "Calculated GRCh38 position:  101727212\n",
      "Ensembl says this position really is:  101727212\n",
      "Position GRCh37:  102435620 maps to GRCh38 interval:  Interval(94094670, 103766424, (93629114, 103300867))\n",
      "Calculated GRCh38 position:  101970064\n",
      "Ensembl says this position really is:  101970064\n",
      "Position GRCh37:  102697175 maps to GRCh38 interval:  Interval(94094670, 103766424, (93629114, 103300867))\n",
      "Calculated GRCh38 position:  102231619\n",
      "Ensembl says this position really is:  102231619\n",
      "Position GRCh37:  103240746 maps to GRCh38 interval:  Interval(94094670, 103766424, (93629114, 103300867))\n",
      "Calculated GRCh38 position:  102775190\n",
      "Ensembl says this position really is:  102775190\n",
      "Position GRCh37:  103303624 maps to GRCh38 interval:  Interval(94094670, 103766424, (93629114, 103300867))\n",
      "Calculated GRCh38 position:  102838068\n",
      "Ensembl says this position really is:  102838068\n"
     ]
    }
   ],
   "source": [
    "# Helper function to test\n",
    "from itertools import islice\n",
    "\n",
    "def head(iterable, items=10):\n",
    "    'Return the first items of an iterator.'\n",
    "    iterator = iter(iterable)\n",
    "    return islice(iterator, items)\n",
    "# ---\n",
    "\n",
    "reader = dp.SSM_Reader(filename='data/ssm_sample.vcf')\n",
    "\n",
    "for record in head(reader.parse(filters=['BRCA-EU'])):\n",
    "    chrom = record.CHROM\n",
    "    pos = record.POS\n",
    "    # Query the interval it maps to\n",
    "    interval = assembly_map[chrom][pos].pop()\n",
    "    \n",
    "    print(\"Position GRCh37: \", pos, \"maps to GRCh38 interval: \", interval)\n",
    "    \n",
    "    # Calculate position from the interval\n",
    "    mapped_pos = interval.data[0] + (record.POS - interval.begin)\n",
    "    print(\"Calculated GRCh38 position: \", mapped_pos)\n",
    "    \n",
    "    # Verify asking for a direct mapping\n",
    "    region = ensembl.region_str(chrom, pos)\n",
    "    map_ = client.assembly_map(region, \n",
    "                               from_assembly='GRCh37', \n",
    "                               to_assembly='GRCh38')\n",
    "    print(\"Ensembl says this position really is: \", map_['mappings'][0]['mapped']['start'])"
   ]
  },
  {
   "cell_type": "markdown",
   "metadata": {},
   "source": [
    "Seems to work, let's test it..."
   ]
  },
  {
   "cell_type": "code",
   "execution_count": 50,
   "metadata": {},
   "outputs": [
    {
     "data": {
      "text/plain": [
       "{'1': {'coord_system': 'chromosome', 'length': 248956422, 'name': '1'},\n",
       " '10': {'coord_system': 'chromosome', 'length': 133797422, 'name': '10'},\n",
       " '11': {'coord_system': 'chromosome', 'length': 135086622, 'name': '11'},\n",
       " '12': {'coord_system': 'chromosome', 'length': 133275309, 'name': '12'},\n",
       " '13': {'coord_system': 'chromosome', 'length': 114364328, 'name': '13'},\n",
       " '14': {'coord_system': 'chromosome', 'length': 107043718, 'name': '14'},\n",
       " '15': {'coord_system': 'chromosome', 'length': 101991189, 'name': '15'},\n",
       " '16': {'coord_system': 'chromosome', 'length': 90338345, 'name': '16'},\n",
       " '17': {'coord_system': 'chromosome', 'length': 83257441, 'name': '17'},\n",
       " '18': {'coord_system': 'chromosome', 'length': 80373285, 'name': '18'},\n",
       " '19': {'coord_system': 'chromosome', 'length': 58617616, 'name': '19'},\n",
       " '2': {'coord_system': 'chromosome', 'length': 242193529, 'name': '2'},\n",
       " '20': {'coord_system': 'chromosome', 'length': 64444167, 'name': '20'},\n",
       " '21': {'coord_system': 'chromosome', 'length': 46709983, 'name': '21'},\n",
       " '22': {'coord_system': 'chromosome', 'length': 50818468, 'name': '22'},\n",
       " '3': {'coord_system': 'chromosome', 'length': 198295559, 'name': '3'},\n",
       " '4': {'coord_system': 'chromosome', 'length': 190214555, 'name': '4'},\n",
       " '5': {'coord_system': 'chromosome', 'length': 181538259, 'name': '5'},\n",
       " '6': {'coord_system': 'chromosome', 'length': 170805979, 'name': '6'},\n",
       " '7': {'coord_system': 'chromosome', 'length': 159345973, 'name': '7'},\n",
       " '8': {'coord_system': 'chromosome', 'length': 145138636, 'name': '8'},\n",
       " '9': {'coord_system': 'chromosome', 'length': 138394717, 'name': '9'},\n",
       " 'MT': {'coord_system': 'chromosome', 'length': 16569, 'name': 'MT'},\n",
       " 'X': {'coord_system': 'chromosome', 'length': 156040895, 'name': 'X'},\n",
       " 'Y': {'coord_system': 'chromosome', 'length': 57227415, 'name': 'Y'}}"
      ]
     },
     "execution_count": 50,
     "metadata": {},
     "output_type": "execute_result"
    }
   ],
   "source": [
    "chroms = {chrom['name']:chrom for chrom in chrom_info}\n",
    "chroms"
   ]
  },
  {
   "cell_type": "code",
   "execution_count": 61,
   "metadata": {},
   "outputs": [
    {
     "ename": "NameError",
     "evalue": "name 'EnsemblRestRateLimitError' is not defined",
     "output_type": "error",
     "traceback": [
      "\u001b[0;31m---------------------------------------------------------------------------\u001b[0m",
      "\u001b[0;31mKeyboardInterrupt\u001b[0m                         Traceback (most recent call last)",
      "\u001b[0;32m/mnt/Ad115/Programming/ICGC-data-parser/src/Python/ICGC_data_parser/ensembl.py\u001b[0m in \u001b[0;36mmake_request\u001b[0;34m(self, method, params, handle_rate_limit, max_attempts)\u001b[0m\n\u001b[1;32m     44\u001b[0m                 \u001b[0;31m# < --- Make the request\u001b[0m\u001b[0;34m\u001b[0m\u001b[0;34m\u001b[0m\u001b[0m\n\u001b[0;32m---> 45\u001b[0;31m                 \u001b[0mresult\u001b[0m \u001b[0;34m=\u001b[0m \u001b[0mmethod\u001b[0m\u001b[0;34m(\u001b[0m\u001b[0;34m**\u001b[0m\u001b[0mparams\u001b[0m\u001b[0;34m)\u001b[0m\u001b[0;34m\u001b[0m\u001b[0m\n\u001b[0m\u001b[1;32m     46\u001b[0m                 \u001b[0;31m# exit while on success\u001b[0m\u001b[0;34m\u001b[0m\u001b[0;34m\u001b[0m\u001b[0m\n",
      "\u001b[0;32m~/.local/lib/python3.6/site-packages/ensemblrest/ensemblrest.py\u001b[0m in \u001b[0;36m<lambda>\u001b[0;34m(**kwargs)\u001b[0m\n\u001b[1;32m    145\u001b[0m     \u001b[0;32mdef\u001b[0m \u001b[0mregister_api_func\u001b[0m\u001b[0;34m(\u001b[0m\u001b[0mself\u001b[0m\u001b[0;34m,\u001b[0m \u001b[0mapi_call\u001b[0m\u001b[0;34m,\u001b[0m \u001b[0mapi_table\u001b[0m\u001b[0;34m)\u001b[0m\u001b[0;34m:\u001b[0m\u001b[0;34m\u001b[0m\u001b[0m\n\u001b[0;32m--> 146\u001b[0;31m         \u001b[0;32mreturn\u001b[0m \u001b[0;32mlambda\u001b[0m \u001b[0;34m**\u001b[0m\u001b[0mkwargs\u001b[0m\u001b[0;34m:\u001b[0m \u001b[0mself\u001b[0m\u001b[0;34m.\u001b[0m\u001b[0mcall_api_func\u001b[0m\u001b[0;34m(\u001b[0m\u001b[0mapi_call\u001b[0m\u001b[0;34m,\u001b[0m \u001b[0mapi_table\u001b[0m\u001b[0;34m,\u001b[0m \u001b[0;34m**\u001b[0m\u001b[0mkwargs\u001b[0m\u001b[0;34m)\u001b[0m\u001b[0;34m\u001b[0m\u001b[0m\n\u001b[0m\u001b[1;32m    147\u001b[0m \u001b[0;34m\u001b[0m\u001b[0m\n",
      "\u001b[0;32m~/.local/lib/python3.6/site-packages/ensemblrest/ensemblrest.py\u001b[0m in \u001b[0;36mcall_api_func\u001b[0;34m(self, api_call, api_table, **kwargs)\u001b[0m\n\u001b[1;32m    207\u001b[0m \u001b[0;34m\u001b[0m\u001b[0m\n\u001b[0;32m--> 208\u001b[0;31m             \u001b[0mresp\u001b[0m \u001b[0;34m=\u001b[0m \u001b[0mself\u001b[0m\u001b[0;34m.\u001b[0m\u001b[0m__get_response\u001b[0m\u001b[0;34m(\u001b[0m\u001b[0;34m)\u001b[0m\u001b[0;34m\u001b[0m\u001b[0m\n\u001b[0m\u001b[1;32m    209\u001b[0m \u001b[0;34m\u001b[0m\u001b[0m\n",
      "\u001b[0;32m~/.local/lib/python3.6/site-packages/ensemblrest/ensemblrest.py\u001b[0m in \u001b[0;36m__get_response\u001b[0;34m(self)\u001b[0m\n\u001b[1;32m    256\u001b[0m                 \u001b[0mlogger\u001b[0m\u001b[0;34m.\u001b[0m\u001b[0mdebug\u001b[0m\u001b[0;34m(\u001b[0m\u001b[0;34m\"waiting %s\"\u001b[0m \u001b[0;34m%\u001b[0m \u001b[0mto_sleep\u001b[0m\u001b[0;34m)\u001b[0m\u001b[0;34m\u001b[0m\u001b[0m\n\u001b[0;32m--> 257\u001b[0;31m                 \u001b[0mtime\u001b[0m\u001b[0;34m.\u001b[0m\u001b[0msleep\u001b[0m\u001b[0;34m(\u001b[0m\u001b[0mto_sleep\u001b[0m\u001b[0;34m)\u001b[0m\u001b[0;34m\u001b[0m\u001b[0m\n\u001b[0m\u001b[1;32m    258\u001b[0m \u001b[0;34m\u001b[0m\u001b[0m\n",
      "\u001b[0;31mKeyboardInterrupt\u001b[0m: ",
      "\nDuring handling of the above exception, another exception occurred:\n",
      "\u001b[0;31mNameError\u001b[0m                                 Traceback (most recent call last)",
      "\u001b[0;32m<ipython-input-61-18071c5ca8ad>\u001b[0m in \u001b[0;36m<module>\u001b[0;34m()\u001b[0m\n\u001b[1;32m     22\u001b[0m     map_ = client.assembly_map(region, \n\u001b[1;32m     23\u001b[0m                                \u001b[0mfrom_assembly\u001b[0m\u001b[0;34m=\u001b[0m\u001b[0;34m'GRCh37'\u001b[0m\u001b[0;34m,\u001b[0m\u001b[0;34m\u001b[0m\u001b[0m\n\u001b[0;32m---> 24\u001b[0;31m                                to_assembly='GRCh38')\n\u001b[0m\u001b[1;32m     25\u001b[0m     \u001b[0;32mif\u001b[0m \u001b[0mmap_\u001b[0m\u001b[0;34m[\u001b[0m\u001b[0;34m'mappings'\u001b[0m\u001b[0;34m]\u001b[0m\u001b[0;34m:\u001b[0m\u001b[0;34m\u001b[0m\u001b[0m\n\u001b[1;32m     26\u001b[0m         \u001b[0mensembl_mapped\u001b[0m \u001b[0;34m=\u001b[0m \u001b[0mmap_\u001b[0m\u001b[0;34m[\u001b[0m\u001b[0;34m'mappings'\u001b[0m\u001b[0;34m]\u001b[0m\u001b[0;34m[\u001b[0m\u001b[0;36m0\u001b[0m\u001b[0;34m]\u001b[0m\u001b[0;34m[\u001b[0m\u001b[0;34m'mapped'\u001b[0m\u001b[0;34m]\u001b[0m\u001b[0;34m\u001b[0m\u001b[0m\n",
      "\u001b[0;32m/mnt/Ad115/Programming/ICGC-data-parser/src/Python/ICGC_data_parser/ensembl.py\u001b[0m in \u001b[0;36massembly_map\u001b[0;34m(self, region, from_assembly, to_assembly, species)\u001b[0m\n\u001b[1;32m     96\u001b[0m                                          \u001b[0;34m'asm_two'\u001b[0m\u001b[0;34m:\u001b[0m\u001b[0mto_assembly\u001b[0m\u001b[0;34m,\u001b[0m\u001b[0;34m\u001b[0m\u001b[0m\n\u001b[1;32m     97\u001b[0m                                          \u001b[0;34m'species'\u001b[0m\u001b[0;34m:\u001b[0m\u001b[0mspecies\u001b[0m\u001b[0;34m,\u001b[0m\u001b[0;34m\u001b[0m\u001b[0m\n\u001b[0;32m---> 98\u001b[0;31m                                          'region':region})\n\u001b[0m\u001b[1;32m     99\u001b[0m \u001b[0;34m\u001b[0m\u001b[0m\n\u001b[1;32m    100\u001b[0m         \u001b[0;32mreturn\u001b[0m \u001b[0mdata\u001b[0m\u001b[0;34m\u001b[0m\u001b[0m\n",
      "\u001b[0;32m/mnt/Ad115/Programming/ICGC-data-parser/src/Python/ICGC_data_parser/ensembl.py\u001b[0m in \u001b[0;36mmake_request\u001b[0;34m(self, method, params, handle_rate_limit, max_attempts)\u001b[0m\n\u001b[1;32m     47\u001b[0m                 \u001b[0;32mbreak\u001b[0m\u001b[0;34m\u001b[0m\u001b[0m\n\u001b[1;32m     48\u001b[0m \u001b[0;34m\u001b[0m\u001b[0m\n\u001b[0;32m---> 49\u001b[0;31m             \u001b[0;32mexcept\u001b[0m \u001b[0mEnsemblRestRateLimitError\u001b[0m\u001b[0;34m:\u001b[0m\u001b[0;34m\u001b[0m\u001b[0m\n\u001b[0m\u001b[1;32m     50\u001b[0m                 \u001b[0;31m# Maximum requests rate exceded\u001b[0m\u001b[0;34m\u001b[0m\u001b[0;34m\u001b[0m\u001b[0m\n\u001b[1;32m     51\u001b[0m                 \u001b[0;31m# Need to wait\u001b[0m\u001b[0;34m\u001b[0m\u001b[0;34m\u001b[0m\u001b[0m\n",
      "\u001b[0;31mNameError\u001b[0m: name 'EnsemblRestRateLimitError' is not defined"
     ]
    }
   ],
   "source": [
    "from itertools import islice\n",
    "\n",
    "reader = dp.SSM_Reader(filename='data/ssm_sample.vcf')\n",
    "failed = 0\n",
    "empty = False\n",
    "\n",
    "for i, record in islice(enumerate(reader.parse(filters=[])), 850, None):\n",
    "    chrom = record.CHROM\n",
    "    pos = record.POS\n",
    "    # Query the interval it maps to\n",
    "    interval = assembly_map[chrom][pos]\n",
    "    \n",
    "    if interval:\n",
    "        # Calculate position from the interval\n",
    "        interval = interval.pop()\n",
    "        mapped_pos = interval.data[0] + (record.POS - interval.begin)\n",
    "    else:\n",
    "        empty = True\n",
    "    \n",
    "    # Verify asking for a direct mapping\n",
    "    region = ensembl.region_str(chrom, pos, pos)\n",
    "    map_ = client.assembly_map(region, \n",
    "                               from_assembly='GRCh37', \n",
    "                               to_assembly='GRCh38')\n",
    "    if map_['mappings']:\n",
    "        ensembl_mapped = map_['mappings'][0]['mapped']\n",
    "    else:\n",
    "        empty = True\n",
    "    \n",
    "    if empty:\n",
    "        # Either the server or the interval search\n",
    "        # gave an empty result, to accept, they must\n",
    "        # be both empty\n",
    "        empty = False\n",
    "        if interval or map_['mappings']:\n",
    "            print(\"Record\",i,\" mapping was inconsistent: \", record, interval, map_['mappings'])\n",
    "            failed += 1\n",
    "            continue\n",
    "        \n",
    "    if mapped_pos != ensembl_mapped['start']:\n",
    "        # Mappings don't match!\n",
    "        # Check strand information\n",
    "        if ensembl_mapped['strand'] == -1:\n",
    "            # Transform to reverse strand\n",
    "            # Visual aid to the transformation:\n",
    "            #  1  2  3  4  5  6  7  8  9 10\n",
    "            #  |  |  |  |  |  |  |  |  |  |\n",
    "            # 10  9  8  7  6  5  4  3  2  1\n",
    "            corrected = chroms[chrom]['length'] - ensembl_mapped['end'] + 1\n",
    "            if corrected == mapped_pos:\n",
    "                continue\n",
    "            else: print(corrected)\n",
    "        print(\"Record\",i,\"failed to map: \", record, (mapped_pos, ensembl_mapped))\n",
    "        failed += 1"
   ]
  },
  {
   "cell_type": "code",
   "execution_count": 62,
   "metadata": {},
   "outputs": [
    {
     "data": {
      "text/plain": [
       "2981"
      ]
     },
     "execution_count": 62,
     "metadata": {},
     "output_type": "execute_result"
    }
   ],
   "source": [
    "i"
   ]
  },
  {
   "cell_type": "markdown",
   "metadata": {},
   "source": [
    "That's good! Now, how much time does it takes?"
   ]
  },
  {
   "cell_type": "code",
   "execution_count": 64,
   "metadata": {},
   "outputs": [
    {
     "name": "stdout",
     "output_type": "stream",
     "text": [
      "Converted  99741 entries.\n",
      "CPU times: user 12.7 s, sys: 20 ms, total: 12.7 s\n",
      "Wall time: 12.7 s\n"
     ]
    }
   ],
   "source": [
    "%%time\n",
    "reader = dp.SSM_Reader(filename='data/ssm_sample.vcf')\n",
    "\n",
    "for i,record in enumerate(reader.parse(filters=[])):\n",
    "    chrom = record.CHROM\n",
    "    pos = record.POS\n",
    "    # Query the interval it maps to\n",
    "    interval = assembly_map[chrom][pos]\n",
    "    \n",
    "    if interval:\n",
    "        # Calculate position from the interval\n",
    "        interval = interval.pop()\n",
    "        mapped_pos = interval.data[0] + (record.POS - interval.begin)\n",
    "        \n",
    "print('Converted ', i+1, 'entries.')"
   ]
  },
  {
   "cell_type": "code",
   "execution_count": 66,
   "metadata": {},
   "outputs": [
    {
     "name": "stdout",
     "output_type": "stream",
     "text": [
      "Converted  99741 entries.\n",
      "CPU times: user 2.98 s, sys: 16 ms, total: 3 s\n",
      "Wall time: 3 s\n"
     ]
    }
   ],
   "source": [
    "%%time\n",
    "reader = dp.SSM_Reader(filename='data/ssm_sample.vcf')\n",
    "\n",
    "for i,record in enumerate(reader.iter_lines()):\n",
    "    record = record.split()\n",
    "    chrom = record[0]\n",
    "    pos = int(record[1])\n",
    "    # Query the interval it maps to\n",
    "    interval = assembly_map[chrom][pos]\n",
    "    \n",
    "    if interval:\n",
    "        # Calculate position from the interval\n",
    "        interval = interval.pop()\n",
    "        mapped_pos = interval.data[0] + (pos - interval.begin)\n",
    "        \n",
    "print('Converted ', i+1, 'entries.')"
   ]
  },
  {
   "cell_type": "code",
   "execution_count": null,
   "metadata": {},
   "outputs": [],
   "source": []
  }
 ],
 "metadata": {
  "kernelspec": {
   "display_name": "Python 3",
   "language": "python",
   "name": "python3"
  },
  "language_info": {
   "codemirror_mode": {
    "name": "ipython",
    "version": 3
   },
   "file_extension": ".py",
   "mimetype": "text/x-python",
   "name": "python",
   "nbconvert_exporter": "python",
   "pygments_lexer": "ipython3",
   "version": "3.6.1"
  }
 },
 "nbformat": 4,
 "nbformat_minor": 2
}
