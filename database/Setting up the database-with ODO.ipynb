{
 "cells": [
  {
   "cell_type": "code",
   "execution_count": 1,
   "metadata": {},
   "outputs": [],
   "source": [
    "from pprint import pprint"
   ]
  },
  {
   "cell_type": "markdown",
   "metadata": {},
   "source": [
    "This illustrates the process of deploying an SQLite database to handle the SSM data in the ICGC Data Releases. \n",
    "\n",
    "For this, we'll use the next schema:\n",
    "\n",
    "![schema](database_schema.png)"
   ]
  },
  {
   "cell_type": "markdown",
   "metadata": {},
   "source": [
    "For this purpose, and to facilitate the handling of the data with Python, we'll be using the Object Relational Mapper library called [PonyORM](https://ponyorm.com/). This library helps map Python classes to SQL tables, to handle records as Python objects and to make queries as if making Python generators."
   ]
  },
  {
   "cell_type": "code",
   "execution_count": 2,
   "metadata": {},
   "outputs": [],
   "source": [
    "def head(iterator, n):\n",
    "    'Return the first n items of the given iterator.'\n",
    "    for i, item in enumerate(iterator):\n",
    "        if i>=n:\n",
    "            break\n",
    "        yield item"
   ]
  },
  {
   "cell_type": "code",
   "execution_count": 3,
   "metadata": {},
   "outputs": [],
   "source": [
    "from collections import namedtuple, OrderedDict\n",
    "# The types of the fields\n",
    "# The format is that of the datashape module\n",
    "\n",
    "# Main fields defining a mutation\n",
    "main_fields = [('chromosome', 'string'),\n",
    "               ('GRCh37_pos', 'int32'),\n",
    "               ('mutation_id', 'string'), \n",
    "               ('reference_allele', 'string'), \n",
    "               ('mutated_allele', 'string'),\n",
    "               ('quality', 'string'), \n",
    "               ('filter', 'string')]\n",
    "\n",
    "# Fields which may have several values\n",
    "tuple_fields = [('consequence','string'), \n",
    "                ('occurrence_by_project','string')]\n",
    "\n",
    "# Fields specifying occurrence over all projects\n",
    "occurrence_global_fields = [('affected_donors', 'int32'),\n",
    "                            ('mutation', 'string'),\n",
    "                            ('project_count','int32'), \n",
    "                            ('tested_donors', 'int32')]\n",
    "\n",
    "# All fields that will be in the database\n",
    "all_fields = main_fields + occurrence_global_fields + tuple_fields\n",
    "\n",
    "# <-- Plain data structures\n",
    "                             \n",
    "# Single valued fields of a mutation\n",
    "fnames = [fname for fname,ftype in main_fields + occurrence_global_fields]\n",
    "MutationSimple = namedtuple('MutationSimple', fnames)\n",
    "                             \n",
    "# Complete data for a mutation\n",
    "MutationComplete = namedtuple('MutationComplete', ['simple', \n",
    "                                                   'consequences', \n",
    "                                                   'occurrence_by_project'])"
   ]
  },
  {
   "cell_type": "code",
   "execution_count": 4,
   "metadata": {},
   "outputs": [],
   "source": [
    "# < --- VCF file parsing\n",
    "\n",
    "def clean_mutations(filename):\n",
    "    \"\"\"\n",
    "    Helper function that returns a generator of the mutations parsed from the file.\n",
    "    \n",
    "    The format is suitable for creating a first file for database setup.\n",
    "    \"\"\"\n",
    "    for raw_mutation in open_vcf(filename):\n",
    "        # Yield the parsed mutation\n",
    "        yield clean_mutation(raw_mutation)\n",
    "# ---\n",
    "\n",
    "def open_vcf(filename):\n",
    "    \"\"\"A generator to handle VCF files easily.\n",
    "    \n",
    "    Open the file with the given filename and yield every line that doesn't\n",
    "    start with '#' (such as comment and header lines)\n",
    "    \"\"\"\n",
    "    # Open the VCF file\n",
    "    with open(filename) as file:\n",
    "        # Yield only the lines that aren't comments\n",
    "        for line in file:\n",
    "            if not line.startswith('#'):\n",
    "                yield line\n",
    "# ---\n",
    "\n",
    "# < --- Mutation parsing\n",
    "\n",
    "# < -- Parse the raw mutation \n",
    "\n",
    "def clean_mutation(raw_mutation):\n",
    "    'Decompose a raw mutation line into fields, returns it as a dict'\n",
    "    # Split the mutation into fields and eliminate newline\n",
    "    *main_fields, rawINFO = raw_mutation.strip().split('\\t')\n",
    "    # Parse the INFO\n",
    "    (consequences, \n",
    "     occurrence_by_project, \n",
    "     occurrence_global) = clean_INFO(rawINFO)\n",
    "    # Assemble the mutation\n",
    "    mutation = MutationSimple(*main_fields, \n",
    "                              *occurrence_global)\n",
    "    # Return the mutation\n",
    "    return MutationComplete(mutation, consequences, occurrence_by_project)\n",
    "# ---\n",
    "\n",
    "def clean_INFO(rawINFO):\n",
    "    \"\"\"Parse the raw text INFO field of a mutation into:\n",
    "        - consecuences\n",
    "        - occurrence_by_project\n",
    "        - occurrence_global\n",
    "    \"\"\"\n",
    "    # Split the data into fields\n",
    "    (consequences, \n",
    "     occurrence_by_project, \n",
    "     *occurrence_global) = rawINFO.split(';')\n",
    "    # Clean the fields\n",
    "    consequences = clean_tuple_field(consequences)\n",
    "    occurrence_by_project = clean_tuple_field(occurrence_by_project)\n",
    "    occurrence_global = clean_occurrence_global(occurrence_global)\n",
    "    \n",
    "    return consequences, occurrence_by_project, occurrence_global\n",
    "# ---\n",
    "\n",
    "def clean_tuple_field(raw_field):\n",
    "    \"\"\"Cleanup of a field that may have a variable number of values.\n",
    "    \n",
    "    A tuple field is of the form 'FIELD_NAME=value1,value2,...'\n",
    "    \n",
    "    Returns (value1, value2, ...)\n",
    "    \"\"\"\n",
    "    # Remove the trailing 'FIELD_NAME=' string\n",
    "    _ , trimmed_field = raw_field.split('=')\n",
    "    # Separate each key, value pair\n",
    "    values = trimmed_field.split(',')\n",
    "    \n",
    "    return values\n",
    "# ---\n",
    "\n",
    "def clean_occurrence_global(raw_occurrence):\n",
    "    \"\"\"Split the raw comma-separated fields of the global occurrence.\n",
    "        \n",
    "    Accepts a collection of elements of the form 'KEY=value'.\n",
    "    Returns a colection with the values 'value'\n",
    "    \"\"\"\n",
    "    # Separate into the corresponding fields\n",
    "    occurrence = ( keyvalue.split('=') for keyvalue in raw_occurrence )\n",
    "    return [value for key,value in occurrence]"
   ]
  },
  {
   "cell_type": "code",
   "execution_count": 5,
   "metadata": {},
   "outputs": [],
   "source": [
    "def mutations_to_csv(mutations, separator=',', header=False):\n",
    "    \"\"\"Return a table representation of the mutations file.\n",
    "    \n",
    "    Creates a generator that dispatches line by line.\n",
    "    \"\"\"\n",
    "    # Header (schema) line\n",
    "    if header:\n",
    "        yield separator.join([fname for fname,ftype in all_fields])\n",
    "\n",
    "    # From the complete data, assemble the database items\n",
    "    for mutation in mutations:\n",
    "        # Begin assembling the output\n",
    "        mutation_prefix = separator.join(mutation.simple)\n",
    "        # Each line must have only one of the items of\n",
    "        # the multiple values in the occurrence_by_project\n",
    "        # and consequence part of the data.\n",
    "        for occurrence in mutation.occurrence_by_project:\n",
    "            for consequence in mutation.consequences:\n",
    "                # Mutation line\n",
    "                yield separator.join([mutation_prefix, \n",
    "                                      consequence,\n",
    "                                      occurrence])"
   ]
  },
  {
   "cell_type": "code",
   "execution_count": 6,
   "metadata": {},
   "outputs": [],
   "source": [
    "# Open the file and read the mutations\n",
    "mutations = mutations_to_csv(\n",
    "                clean_mutations('../data/ssm_mixed.vcf'))"
   ]
  },
  {
   "cell_type": "code",
   "execution_count": 12,
   "metadata": {},
   "outputs": [
    {
     "name": "stdout",
     "output_type": "stream",
     "text": [
      "['||||||intergenic_region||',\n",
      " 'S1PR1|ENSG00000170989|+|S1PR1-001|ENST00000305352||upstream_gene_variant||',\n",
      " 'RP4-575N6.4|ENSG00000225938|1|RP4-575N6.4-001|ENST00000432195||downstream_gene_variant||',\n",
      " 'snoU13|ENSG00000238296|1|snoU13.3-201|ENST00000459166||upstream_gene_variant||']\n"
     ]
    }
   ],
   "source": [
    "# Open the file and read the mutations\n",
    "muts = clean_mutations('../data/ssm_mixed.vcf')\n",
    "m = next(muts)\n",
    "pprint(m.consequences)"
   ]
  },
  {
   "cell_type": "code",
   "execution_count": 13,
   "metadata": {
    "scrolled": true
   },
   "outputs": [
    {
     "name": "stdout",
     "output_type": "stream",
     "text": [
      "CPU times: user 0 ns, sys: 0 ns, total: 0 ns\n",
      "Wall time: 6.68 µs\n"
     ]
    }
   ],
   "source": [
    "%time\n",
    "\n",
    "# We create a header-less file due to the ODO library\n",
    "\n",
    "with open('../data/ssm_mixed_nohead.csv', 'w') as file:\n",
    "    for mutation in mutations:\n",
    "        file.write(mutation + '\\n')"
   ]
  },
  {
   "cell_type": "code",
   "execution_count": 14,
   "metadata": {},
   "outputs": [
    {
     "name": "stdout",
     "output_type": "stream",
     "text": [
      "var * {\n",
      "chromosome:string,\n",
      "GRCh37_pos:int32,\n",
      "mutation_id:string,\n",
      "reference_allele:string,\n",
      "mutated_allele:string,\n",
      "quality:string,\n",
      "filter:string,\n",
      "affected_donors:int32,\n",
      "mutation:string,\n",
      "project_count:int32,\n",
      "tested_donors:int32,\n",
      "consequence:string,\n",
      "occurrence_by_project:string\n",
      "}\n"
     ]
    }
   ],
   "source": [
    "# Assemble the datashape of the data\n",
    "partial_dshape = \",\\n\".join(key + ':' + value \n",
    "                            for key, value in all_fields) \n",
    "\n",
    "datashape = 'var * {\\n' + partial_dshape + '\\n}'\n",
    "print(datashape)"
   ]
  },
  {
   "cell_type": "code",
   "execution_count": 32,
   "metadata": {},
   "outputs": [],
   "source": [
    "import odo # Database loader"
   ]
  },
  {
   "cell_type": "code",
   "execution_count": 41,
   "metadata": {},
   "outputs": [
    {
     "data": {
      "text/plain": [
       "Table('ssm', MetaData(bind=Engine(sqlite:///../data/ssm_mixed2.sqlite)), Column('chromosome', Text(), table=<ssm>, nullable=False), Column('GRCh37_pos', Integer(), table=<ssm>, nullable=False), Column('mutation_id', Text(), table=<ssm>, nullable=False), Column('reference_allele', Text(), table=<ssm>, nullable=False), Column('mutated_allele', Text(), table=<ssm>, nullable=False), Column('quality', Text(), table=<ssm>, nullable=False), Column('filter', Text(), table=<ssm>, nullable=False), Column('affected_donors', Integer(), table=<ssm>, nullable=False), Column('mutation', Text(), table=<ssm>, nullable=False), Column('project_count', Integer(), table=<ssm>, nullable=False), Column('tested_donors', Integer(), table=<ssm>, nullable=False), Column('consequence', Text(), table=<ssm>, nullable=False), Column('occurrence_by_project', Text(), table=<ssm>, nullable=False), schema=None)"
      ]
     },
     "execution_count": 41,
     "metadata": {},
     "output_type": "execute_result"
    }
   ],
   "source": [
    "# Load to the database\n",
    "dbfile = '../data/ssm_mixed2.sqlite'\n",
    "\n",
    "database = odo.resource(f'sqlite:///{dbfile}::ssm',\n",
    "         dshape=datashape,\n",
    "         primary_key=['mutation_id'])\n",
    "\n",
    "odo.odo('../data/ssm_mixed_nohead.csv', database)"
   ]
  },
  {
   "cell_type": "code",
   "execution_count": 42,
   "metadata": {},
   "outputs": [],
   "source": [
    "import records\n",
    "\n",
    "db = records.Database(f'sqlite:///{dbfile}')\n",
    "rows = db.query('select * from ssm')"
   ]
  },
  {
   "cell_type": "code",
   "execution_count": 43,
   "metadata": {},
   "outputs": [
    {
     "name": "stdout",
     "output_type": "stream",
     "text": [
      "chromosome|GRCh37_pos|mutation_id|reference_allele|mutated_allele|quality|filter|affected_donors|mutation|project_count|tested_donors|consequence                                                                             |occurrence_by_project\n",
      "----------|----------|-----------|----------------|--------------|-------|------|---------------|--------|-------------|-------------|----------------------------------------------------------------------------------------|---------------------\n",
      "1         |101697478 |MU56006960 |C               |G             |.      |.     |1              |C>G     |1            |10648        |||||||intergenic_region||                                                               |LUSC-KR|1|66|0.01515 \n",
      "1         |101697478 |MU56006960 |C               |G             |.      |.     |1              |C>G     |1            |10648        |S1PR1|ENSG00000170989|+|S1PR1-001|ENST00000305352||upstream_gene_variant||              |LUSC-KR|1|66|0.01515 \n",
      "1         |101697478 |MU56006960 |C               |G             |.      |.     |1              |C>G     |1            |10648        |RP4-575N6.4|ENSG00000225938|1|RP4-575N6.4-001|ENST00000432195||downstream_gene_variant|||LUSC-KR|1|66|0.01515 \n",
      "1         |101697478 |MU56006960 |C               |G             |.      |.     |1              |C>G     |1            |10648        |snoU13|ENSG00000238296|1|snoU13.3-201|ENST00000459166||upstream_gene_variant||          |LUSC-KR|1|66|0.01515 \n",
      "1         |101697494 |MU66170198 |T               |C             |.      |.     |1              |T>C     |1            |10648        |||||||intergenic_region||                                                               |BRCA-EU|1|560|0.00179\n",
      "1         |101697494 |MU66170198 |T               |C             |.      |.     |1              |T>C     |1            |10648        |S1PR1|ENSG00000170989|+|S1PR1-001|ENST00000305352||upstream_gene_variant||              |BRCA-EU|1|560|0.00179\n",
      "1         |101697494 |MU66170198 |T               |C             |.      |.     |1              |T>C     |1            |10648        |RP4-575N6.4|ENSG00000225938|1|RP4-575N6.4-001|ENST00000432195||downstream_gene_variant|||BRCA-EU|1|560|0.00179\n",
      "1         |101697494 |MU66170198 |T               |C             |.      |.     |1              |T>C     |1            |10648        |snoU13|ENSG00000238296|1|snoU13.3-201|ENST00000459166||upstream_gene_variant||          |BRCA-EU|1|560|0.00179\n",
      "1         |101697494 |MU66170198 |T               |C             |.      |.     |1              |T>C     |1            |10648        |S1PR1|ENSG00000170989|+|S1PR1-003|ENST00000475821||upstream_gene_variant||              |BRCA-EU|1|560|0.00179\n",
      "1         |101697507 |MU28940329 |CAT             |C             |.      |.     |1              |AT>-    |1            |10648        |||||||intergenic_region||                                                               |PACA-CA|1|259|0.00386\n"
     ]
    }
   ],
   "source": [
    "print(rows[:10].dataset)"
   ]
  },
  {
   "cell_type": "code",
   "execution_count": 184,
   "metadata": {},
   "outputs": [
    {
     "data": {
      "text/plain": [
       "<Record {\"chromosome\": \"1\", \"GRCh37_pos\": 101697478, \"mutation_id\": \"MU56006960\", \"reference_allele\": \"C\", \"mutated_allele\": \"G\", \"quality\": \".\", \"filter\": \".\", \"consequence\": \"1\", \"occurrence_by_project\": \"C>G\", \"affected_donors\": 1, \"mutation\": \"10648\", \"project_count\": \"LUSC-KR|1|66|0.01515\", \"tested_donors\": \"||||||intergenic_region||\"}>"
      ]
     },
     "execution_count": 184,
     "metadata": {},
     "output_type": "execute_result"
    }
   ],
   "source": [
    "rows[0]"
   ]
  },
  {
   "cell_type": "code",
   "execution_count": 185,
   "metadata": {},
   "outputs": [
    {
     "name": "stdout",
     "output_type": "stream",
     "text": [
      "Help on Record in module records object:\n",
      "\n",
      "class Record(builtins.object)\n",
      " |  A row, from a query, from a database.\n",
      " |  \n",
      " |  Methods defined here:\n",
      " |  \n",
      " |  __dir__(self)\n",
      " |      __dir__() -> list\n",
      " |      default dir() implementation\n",
      " |  \n",
      " |  __getattr__(self, key)\n",
      " |  \n",
      " |  __getitem__(self, key)\n",
      " |  \n",
      " |  __init__(self, keys, values)\n",
      " |      Initialize self.  See help(type(self)) for accurate signature.\n",
      " |  \n",
      " |  __repr__(self)\n",
      " |      Return repr(self).\n",
      " |  \n",
      " |  as_dict(self, ordered=False)\n",
      " |      Returns the row as a dictionary, as ordered.\n",
      " |  \n",
      " |  export(self, format, **kwargs)\n",
      " |      Exports the row to the given format.\n",
      " |  \n",
      " |  get(self, key, default=None)\n",
      " |      Returns the value for a given key, or default.\n",
      " |  \n",
      " |  keys(self)\n",
      " |      Returns the list of column names from the query.\n",
      " |  \n",
      " |  values(self)\n",
      " |      Returns the list of values from the query.\n",
      " |  \n",
      " |  ----------------------------------------------------------------------\n",
      " |  Data descriptors defined here:\n",
      " |  \n",
      " |  dataset\n",
      " |      A Tablib Dataset containing the row.\n",
      "\n"
     ]
    }
   ],
   "source": [
    "help(rows[0])"
   ]
  },
  {
   "cell_type": "code",
   "execution_count": 19,
   "metadata": {},
   "outputs": [],
   "source": [
    "chr1 = db.query('select mutation_id,occurrence_by_project from ssm')"
   ]
  },
  {
   "cell_type": "code",
   "execution_count": 20,
   "metadata": {},
   "outputs": [
    {
     "name": "stdout",
     "output_type": "stream",
     "text": [
      "mutation_id|occurrence_by_project\n",
      "-----------|---------------------\n",
      "MU56006960 |LUSC-KR|1|66|0.01515 \n",
      "MU56006960 |LUSC-KR|1|66|0.01515 \n",
      "MU56006960 |LUSC-KR|1|66|0.01515 \n",
      "MU56006960 |LUSC-KR|1|66|0.01515 \n",
      "MU66170198 |BRCA-EU|1|560|0.00179\n",
      "MU66170198 |BRCA-EU|1|560|0.00179\n",
      "MU66170198 |BRCA-EU|1|560|0.00179\n",
      "MU66170198 |BRCA-EU|1|560|0.00179\n",
      "MU66170198 |BRCA-EU|1|560|0.00179\n",
      "MU28940329 |PACA-CA|1|259|0.00386\n"
     ]
    }
   ],
   "source": [
    "print(chr1[:10].dataset)"
   ]
  },
  {
   "cell_type": "code",
   "execution_count": 21,
   "metadata": {},
   "outputs": [
    {
     "name": "stdout",
     "output_type": "stream",
     "text": [
      "mutation_id|consequence                                                                             \n",
      "-----------|----------------------------------------------------------------------------------------\n",
      "MU56006960 |||||||intergenic_region||                                                               \n",
      "MU56006960 |S1PR1|ENSG00000170989|+|S1PR1-001|ENST00000305352||upstream_gene_variant||              \n",
      "MU56006960 |RP4-575N6.4|ENSG00000225938|1|RP4-575N6.4-001|ENST00000432195||downstream_gene_variant||\n",
      "MU56006960 |snoU13|ENSG00000238296|1|snoU13.3-201|ENST00000459166||upstream_gene_variant||          \n",
      "MU66170198 |||||||intergenic_region||                                                               \n",
      "MU66170198 |S1PR1|ENSG00000170989|+|S1PR1-001|ENST00000305352||upstream_gene_variant||              \n",
      "MU66170198 |RP4-575N6.4|ENSG00000225938|1|RP4-575N6.4-001|ENST00000432195||downstream_gene_variant||\n",
      "MU66170198 |snoU13|ENSG00000238296|1|snoU13.3-201|ENST00000459166||upstream_gene_variant||          \n",
      "MU66170198 |S1PR1|ENSG00000170989|+|S1PR1-003|ENST00000475821||upstream_gene_variant||              \n",
      "MU28940329 |||||||intergenic_region||                                                               \n"
     ]
    }
   ],
   "source": [
    "chr1 = db.query('select mutation_id,consequence from ssm')\n",
    "print(chr1[:10].dataset)"
   ]
  },
  {
   "cell_type": "code",
   "execution_count": 31,
   "metadata": {},
   "outputs": [
    {
     "name": "stdout",
     "output_type": "stream",
     "text": [
      "count(distinct consequence)\n",
      "---------------------------\n",
      "11743                      \n"
     ]
    }
   ],
   "source": [
    "conseq_q = db.query('select count(distinct consequence) from ssm')\n",
    "print(conseq_q.dataset)"
   ]
  },
  {
   "cell_type": "code",
   "execution_count": 34,
   "metadata": {},
   "outputs": [
    {
     "name": "stdout",
     "output_type": "stream",
     "text": [
      "filter\n",
      "------\n",
      ".     \n"
     ]
    }
   ],
   "source": [
    "q_q = db.query('select distinct filter from ssm')\n",
    "print(q_q.dataset)"
   ]
  },
  {
   "cell_type": "code",
   "execution_count": 38,
   "metadata": {},
   "outputs": [
    {
     "data": {
      "text/plain": [
       "8"
      ]
     },
     "execution_count": 38,
     "metadata": {},
     "output_type": "execute_result"
    }
   ],
   "source": [
    "i"
   ]
  },
  {
   "cell_type": "code",
   "execution_count": 37,
   "metadata": {},
   "outputs": [
    {
     "name": "stdout",
     "output_type": "stream",
     "text": [
      "0\n",
      "1\n",
      "2\n",
      "3\n",
      "4\n",
      "5\n",
      "6\n",
      "7\n",
      "8\n"
     ]
    }
   ],
   "source": [
    "for i in range(9):\n",
    "    print(i)"
   ]
  },
  {
   "cell_type": "code",
   "execution_count": null,
   "metadata": {},
   "outputs": [],
   "source": []
  }
 ],
 "metadata": {
  "kernelspec": {
   "display_name": "Python 3",
   "language": "python",
   "name": "python3"
  },
  "language_info": {
   "codemirror_mode": {
    "name": "ipython",
    "version": 3
   },
   "file_extension": ".py",
   "mimetype": "text/x-python",
   "name": "python",
   "nbconvert_exporter": "python",
   "pygments_lexer": "ipython3",
   "version": "3.6.1"
  }
 },
 "nbformat": 4,
 "nbformat_minor": 2
}
