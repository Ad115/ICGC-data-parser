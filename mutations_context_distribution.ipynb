{
 "cells": [
  {
   "cell_type": "markdown",
   "metadata": {},
   "source": [
    "# Analizing the contexts in which mutations occur"
   ]
  },
  {
   "cell_type": "markdown",
   "metadata": {},
   "source": [
    "Not all mutations are the same and here we analyze how are the common mutation consequences distributed,"
   ]
  },
  {
   "cell_type": "code",
   "execution_count": 20,
   "metadata": {},
   "outputs": [],
   "source": [
    "%matplotlib inline\n",
    "\n",
    "import matplotlib.pyplot as plt\n",
    "import seaborn as sns\n",
    "\n",
    "sns.set()"
   ]
  },
  {
   "cell_type": "markdown",
   "metadata": {},
   "source": [
    "We first map genes to the number of mutations they harbor (read from a random sample of 100,000 mutations)"
   ]
  },
  {
   "cell_type": "code",
   "execution_count": 9,
   "metadata": {},
   "outputs": [
    {
     "data": {
      "text/plain": [
       "[('intron_variant', 179634),\n",
       " ('intergenic_region', 51253),\n",
       " ('downstream_gene_variant', 25290),\n",
       " ('upstream_gene_variant', 24513),\n",
       " ('missense_variant', 4898),\n",
       " ('exon_variant', 3922),\n",
       " ('synonymous_variant', 2204),\n",
       " ('3_prime_UTR_variant', 1933),\n",
       " ('splice_region_variant', 494),\n",
       " ('5_prime_UTR_variant', 425),\n",
       " ('stop_gained', 303),\n",
       " ('frameshift_variant', 292),\n",
       " ('splice_acceptor_variant', 117),\n",
       " ('splice_donor_variant', 110),\n",
       " ('5_prime_UTR_premature_start_codon_gain_variant', 69),\n",
       " ('intragenic_variant', 16),\n",
       " ('inframe_deletion', 15),\n",
       " ('disruptive_inframe_deletion', 11),\n",
       " ('stop_retained_variant', 5),\n",
       " ('disruptive_inframe_insertion', 4),\n",
       " ('start_lost', 3),\n",
       " ('stop_lost', 3),\n",
       " ('inframe_insertion', 2)]"
      ]
     },
     "execution_count": 9,
     "metadata": {},
     "output_type": "execute_result"
    }
   ],
   "source": [
    "from collections import Counter\n",
    "from ICGC_data_parser import SSM_Reader\n",
    "\n",
    "consequences = Counter()\n",
    "\n",
    "mutations = SSM_Reader(filename='data/ssm_sample.vcf')\n",
    "CONSEQUENCE = mutations.subfield_parser('CONSEQUENCE')\n",
    "\n",
    "for record in mutations:\n",
    "    consequence_types = [c.consequence_type for c in CONSEQUENCE(record)]\n",
    "    consequences.update(consequence_types)\n",
    "    \n",
    "sorted(consequences.items(), \n",
    "       key=lambda a: a[1], \n",
    "       reverse=True )"
   ]
  }
 ],
 "metadata": {
  "kernelspec": {
   "display_name": "Python 3",
   "language": "python",
   "name": "python3"
  },
  "language_info": {
   "codemirror_mode": {
    "name": "ipython",
    "version": 3
   },
   "file_extension": ".py",
   "mimetype": "text/x-python",
   "name": "python",
   "nbconvert_exporter": "python",
   "pygments_lexer": "ipython3",
   "version": "3.6.1"
  }
 },
 "nbformat": 4,
 "nbformat_minor": 2
}
