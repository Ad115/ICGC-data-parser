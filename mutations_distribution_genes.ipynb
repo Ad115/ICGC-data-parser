{
 "cells": [
  {
   "cell_type": "markdown",
   "metadata": {},
   "source": [
    "# Plotting the mutations density in the genes"
   ]
  },
  {
   "cell_type": "markdown",
   "metadata": {},
   "source": [
    "Are there specific genes in which a significant portion of the mutations fall?\n",
    "We want to answer this by finding the distribution of the number of mutations per gene.\n",
    "That is, for each integer, we want to know how many genes have that number of mutations."
   ]
  },
  {
   "cell_type": "code",
   "execution_count": 20,
   "metadata": {},
   "outputs": [],
   "source": [
    "%matplotlib inline\n",
    "\n",
    "import matplotlib.pyplot as plt\n",
    "import seaborn as sns\n",
    "\n",
    "sns.set()"
   ]
  },
  {
   "cell_type": "markdown",
   "metadata": {},
   "source": [
    "We first map genes to the number of mutations they harbor (read from a random sample of 100,000 mutations)"
   ]
  },
  {
   "cell_type": "code",
   "execution_count": 11,
   "metadata": {},
   "outputs": [
    {
     "data": {
      "text/plain": [
       "[('PCDH15', 1651),\n",
       " ('RBFOX1', 1041),\n",
       " ('CSMD1', 979),\n",
       " ('DLG2', 941),\n",
       " ('SPOCK3', 929)]"
      ]
     },
     "execution_count": 11,
     "metadata": {},
     "output_type": "execute_result"
    }
   ],
   "source": [
    "from collections import Counter\n",
    "from ICGC_data_parser import SSM_Reader\n",
    "\n",
    "mutations_per_gene = Counter()\n",
    "\n",
    "mutations = SSM_Reader(filename='data/ssm_sample.vcf')\n",
    "CONSEQUENCE = mutations.subfield_parser('CONSEQUENCE')\n",
    "\n",
    "for record in mutations:\n",
    "    affected_genes = [c.gene_symbol for c in CONSEQUENCE(record) if c.gene_symbol]\n",
    "    mutations_per_gene.update(affected_genes)\n",
    "    \n",
    "mutations_per_gene.most_common(5)"
   ]
  },
  {
   "cell_type": "markdown",
   "metadata": {},
   "source": [
    "Now we want to group by number of mutations"
   ]
  },
  {
   "cell_type": "code",
   "execution_count": 12,
   "metadata": {},
   "outputs": [
    {
     "data": {
      "text/plain": [
       "[(1, 8600),\n",
       " (2, 3624),\n",
       " (3, 1638),\n",
       " (4, 1403),\n",
       " (6, 1001),\n",
       " (5, 877),\n",
       " (8, 712),\n",
       " (7, 687),\n",
       " (9, 535),\n",
       " (10, 522)]"
      ]
     },
     "execution_count": 12,
     "metadata": {},
     "output_type": "execute_result"
    }
   ],
   "source": [
    "distribution = Counter(mutations_per_gene.values())\n",
    "distribution.most_common(10)"
   ]
  },
  {
   "cell_type": "markdown",
   "metadata": {},
   "source": [
    "Now we plot the data..."
   ]
  },
  {
   "cell_type": "code",
   "execution_count": 22,
   "metadata": {},
   "outputs": [
    {
     "data": {
      "image/png": "[encoded data removed]",
      "text/plain": [
       "<matplotlib.figure.Figure at 0x7fc33e1342e8>"
      ]
     },
     "metadata": {},
     "output_type": "display_data"
    }
   ],
   "source": [
    "x = sorted(distribution.keys())\n",
    "y = [distribution[i] for i in x]\n",
    "\n",
    "plt.plot(x, y, marker='o')\n",
    "plt.yscale('log')\n",
    "plt.xscale('log')\n",
    "plt.title('Mutation distribution by gene')\n",
    "plt.xlabel('$n$')\n",
    "plt.ylabel('genes with $n$ mutations')\n",
    "plt.show()"
   ]
  },
  {
   "cell_type": "code",
   "execution_count": null,
   "metadata": {},
   "outputs": [],
   "source": []
  }
 ],
 "metadata": {
  "kernelspec": {
   "display_name": "Python 3",
   "language": "python",
   "name": "python3"
  },
  "language_info": {
   "codemirror_mode": {
    "name": "ipython",
    "version": 3
   },
   "file_extension": ".py",
   "mimetype": "text/x-python",
   "name": "python",
   "nbconvert_exporter": "python",
   "pygments_lexer": "ipython3",
   "version": "3.6.1"
  }
 },
 "nbformat": 4,
 "nbformat_minor": 2
}
