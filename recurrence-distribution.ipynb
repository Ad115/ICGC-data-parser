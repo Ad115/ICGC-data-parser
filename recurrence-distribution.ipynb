{
 "cells": [
  {
   "cell_type": "code",
   "execution_count": 1,
   "metadata": {},
   "outputs": [],
   "source": [
    "%matplotlib inline\n",
    "\n",
    "import matplotlib.pyplot as plt\n",
    "import seaborn as sns\n",
    "import numpy as np\n",
    "from scipy import optimize\n",
    "\n",
    "sns.set()"
   ]
  },
  {
   "cell_type": "code",
   "execution_count": 2,
   "metadata": {},
   "outputs": [],
   "source": [
    "from src.Python.ICGC_data_parser import SSM_Reader"
   ]
  },
  {
   "cell_type": "code",
   "execution_count": 3,
   "metadata": {},
   "outputs": [],
   "source": [
    "from collections import Counter\n",
    "\n",
    "def recurrence_data(mutation, parser):\n",
    "    \"Fetch the recurrence data for a given mutation.\"\n",
    "    recurrence_by_project = {occ.project_code:{'affected_donors': occ.affected_donors,\n",
    "                                               'tested_donors': occ.tested_donors} \n",
    "                                     for occ in parser(mutation)}\n",
    "    return {'mutation_id' : mutation.ID,\n",
    "            'proj_recurrence' : recurrence_by_project,\n",
    "            'total_affected_donors': mutation.INFO['affected_donors'],\n",
    "            'total_tested_donors': mutation.INFO['tested_donors']}\n",
    "# ---\n",
    "\n",
    "\n",
    "def recurrence_distribution(filename, project=None, filters=None):\n",
    "    \"\"\"Searches through input file for mutations related to \n",
    "    the given cancer project.\n",
    "\n",
    "    Gets the mutation recurrence distribution for the data \n",
    "    (i.e. how many mutations are repeated in ``n`` different \n",
    "    patients?)\n",
    "    \"\"\"\n",
    "    if filters is None:\n",
    "        filters = []\n",
    "    \n",
    "    # Open mutations file\n",
    "    reader = SSM_Reader(filename=filename)\n",
    "    OCCURRENCES = reader.subfield_parser('OCCURRENCE')\n",
    "\n",
    "    # Initialize distribution\n",
    "    tested_donors = None\n",
    "    distribution = Counter()\n",
    "\n",
    "    for record in reader.parse(filters=[project]+filters):\n",
    "        recurrence = recurrence_data(record, OCCURRENCES)\n",
    "\n",
    "        if project: # When a project is specified\n",
    "            proj_recurrence = recurrence['proj_recurrence'][project]\n",
    "            proj_affected = proj_recurrence['affected_donors']\n",
    "            distribution[int(proj_affected)] += 1\n",
    "\n",
    "            if tested_donors is None:\n",
    "                tested_donors = proj_recurrence['tested_donors']\n",
    "                \n",
    "        else: # When all projects are parsed\n",
    "            total_affected = recurrence['total_affected_donors']\n",
    "            distribution[int(total_affected)] += 1\n",
    "\n",
    "            if tested_donors is None:\n",
    "                tested_donors = recurrence['total_tested_donors']\n",
    "                \n",
    "    return distribution, tested_donors\n",
    "# ---\n",
    "\n",
    "distribution, tested_donors = recurrence_distribution('data/data-release-25/ssm_sample.vcf')"
   ]
  },
  {
   "cell_type": "code",
   "execution_count": 4,
   "metadata": {},
   "outputs": [
    {
     "name": "stdout",
     "output_type": "stream",
     "text": [
      "1 295368\n",
      "2 17083\n",
      "3 2809\n",
      "4 910\n",
      "5 458\n",
      "6 197\n",
      "7 119\n",
      "8 61\n",
      "9 41\n",
      "10 20\n",
      "11 17\n",
      "12 17\n",
      "13 8\n",
      "14 7\n",
      "15 5\n",
      "16 3\n",
      "17 2\n",
      "18 5\n",
      "19 1\n",
      "20 1\n",
      "21 1\n",
      "22 1\n",
      "24 1\n",
      "12198\n"
     ]
    }
   ],
   "source": [
    "for i in sorted(distribution.keys()):\n",
    "    print(i, distribution[i])\n",
    "print(tested_donors)"
   ]
  },
  {
   "cell_type": "code",
   "execution_count": 6,
   "metadata": {},
   "outputs": [
    {
     "data": {
      "image/png": "[encoded data removed]",
      "text/plain": [
       "<matplotlib.figure.Figure at 0x7fab94e60e48>"
      ]
     },
     "metadata": {},
     "output_type": "display_data"
    }
   ],
   "source": [
    "x = sorted(distribution.keys())\n",
    "y = [distribution[i] for i in x]\n",
    "\n",
    "plt.plot(x, y, marker='o')\n",
    "plt.yscale('log')\n",
    "plt.xscale('log')\n",
    "plt.title('Mutation recurrence distribution')\n",
    "plt.xlabel('recurrence')\n",
    "plt.ylabel('no. of mutations')\n",
    "plt.show()"
   ]
  },
  {
   "cell_type": "code",
   "execution_count": 18,
   "metadata": {},
   "outputs": [],
   "source": [
    "xdata = np.array(x)\n",
    "ydata = np.array(y)\n",
    "yerr = 0.2 * ydata"
   ]
  },
  {
   "cell_type": "code",
   "execution_count": 19,
   "metadata": {},
   "outputs": [
    {
     "name": "stdout",
     "output_type": "stream",
     "text": [
      "[ 5.45859004 -4.07123806]\n",
      "[[ 0.01509406 -0.01369372]\n",
      " [-0.01369372  0.01404109]]\n"
     ]
    },
    {
     "data": {
      "text/plain": [
       "(1.0, 11)"
      ]
     },
     "execution_count": 19,
     "metadata": {},
     "output_type": "execute_result"
    },
    {
     "data": {
      "image/png": "[encoded data removed]",
      "text/plain": [
       "<matplotlib.figure.Figure at 0x7f393059c2e8>"
      ]
     },
     "metadata": {},
     "output_type": "display_data"
    }
   ],
   "source": [
    "##########\n",
    "# Fitting the data -- Least Squares Method\n",
    "##########\n",
    "\n",
    "# Power-law fitting is best done by first converting\n",
    "# to a linear equation and then fitting to a straight line.\n",
    "# Note that the `logyerr` term here is ignoring a constant prefactor.\n",
    "#\n",
    "#  y = a * x^b\n",
    "#  log(y) = log(a) + b*log(x)\n",
    "#\n",
    "# Define function for calculating a power law\n",
    "powerlaw = lambda x, amp, index: amp * (x**index)\n",
    "\n",
    "logx = np.log10(xdata)\n",
    "logy = np.log10(ydata)\n",
    "logyerr = yerr / ydata\n",
    "\n",
    "# define our (line) fitting function\n",
    "fitfunc = lambda p, x: p[0] + p[1] * x\n",
    "errfunc = lambda p, x, y, err: (y - fitfunc(p, x)) / err\n",
    "\n",
    "pinit = [1.0, -1.0]\n",
    "out = optimize.leastsq(errfunc, pinit,\n",
    "                       args=(logx, logy, logyerr), full_output=1)\n",
    "\n",
    "pfinal = out[0]\n",
    "covar = out[1]\n",
    "print(pfinal)\n",
    "print(covar)\n",
    "\n",
    "index = pfinal[1]\n",
    "amp = 10.0**pfinal[0]\n",
    "\n",
    "indexErr = np.sqrt( covar[1][1] )\n",
    "ampErr = np.sqrt( covar[0][0] ) * amp\n",
    "\n",
    "##########\n",
    "# Plotting data\n",
    "##########\n",
    "\n",
    "plt.clf()\n",
    "plt.subplot(2, 1, 1)\n",
    "plt.plot(xdata, powerlaw(xdata, amp, index))     # Fit\n",
    "plt.errorbar(xdata, ydata, yerr=yerr, fmt='k.')  # Data\n",
    "plt.text(5, 50000, 'Ampli = %5.2f +/- %5.2f' % (amp, ampErr))\n",
    "plt.text(5, 20000, 'Index = %5.2f +/- %5.2f' % (index, indexErr))\n",
    "plt.title('Best Fit Power Law')\n",
    "plt.xlabel('X')\n",
    "plt.ylabel('Y')\n",
    "\n",
    "plt.subplot(2, 1, 2)\n",
    "plt.loglog(xdata, powerlaw(xdata, amp, index))\n",
    "plt.errorbar(xdata, ydata, yerr=yerr, fmt='k.')  # Data\n",
    "plt.xlabel('X (log scale)')\n",
    "plt.ylabel('Y (log scale)')\n",
    "plt.xlim(1.0, 11)"
   ]
  },
  {
   "cell_type": "code",
   "execution_count": null,
   "metadata": {},
   "outputs": [],
   "source": []
  }
 ],
 "metadata": {
  "kernelspec": {
   "display_name": "Python 3",
   "language": "python",
   "name": "python3"
  },
  "language_info": {
   "codemirror_mode": {
    "name": "ipython",
    "version": 3
   },
   "file_extension": ".py",
   "mimetype": "text/x-python",
   "name": "python",
   "nbconvert_exporter": "python",
   "pygments_lexer": "ipython3",
   "version": "3.6.1"
  }
 },
 "nbformat": 4,
 "nbformat_minor": 2
}
