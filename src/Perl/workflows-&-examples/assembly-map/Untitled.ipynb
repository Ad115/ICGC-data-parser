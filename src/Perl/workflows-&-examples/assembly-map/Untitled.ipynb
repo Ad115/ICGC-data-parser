{
 "cells": [
  {
   "cell_type": "code",
   "execution_count": 2,
   "metadata": {},
   "outputs": [],
   "source": [
    "import ensembl"
   ]
  },
  {
   "cell_type": "code",
   "execution_count": 3,
   "metadata": {},
   "outputs": [],
   "source": [
    "client = ensembl.Client()"
   ]
  },
  {
   "cell_type": "code",
   "execution_count": 4,
   "metadata": {},
   "outputs": [
    {
     "data": {
      "text/plain": [
       "{'mappings': [{'mapped': {'assembly': 'GRCh38',\n",
       "    'coord_system': 'chromosome',\n",
       "    'end': 1039365,\n",
       "    'seq_region_name': 'X',\n",
       "    'start': 1039265,\n",
       "    'strand': 1},\n",
       "   'original': {'assembly': 'GRCh37',\n",
       "    'coord_system': 'chromosome',\n",
       "    'end': 1000100,\n",
       "    'seq_region_name': 'X',\n",
       "    'start': 1000000,\n",
       "    'strand': 1}}]}"
      ]
     },
     "execution_count": 4,
     "metadata": {},
     "output_type": "execute_result"
    }
   ],
   "source": [
    "client.assembly_map(region=ensembl.region_str('X', start=1000000, end=1000100),\n",
    "                    from_assembly='GRCh37',\n",
    "                    to_assembly='GRCh38')"
   ]
  },
  {
   "cell_type": "code",
   "execution_count": 5,
   "metadata": {},
   "outputs": [
    {
     "data": {
      "text/plain": [
       "{'assembly_accession': 'GCA_000001405.25',\n",
       " 'assembly_date': '2013-12',\n",
       " 'assembly_name': 'GRCh38.p10',\n",
       " 'coord_system_versions': ['GRCh38', 'GRCh37', 'NCBI36', 'NCBI35', 'NCBI34'],\n",
       " 'default_coord_system_version': 'GRCh38',\n",
       " 'genebuild_initial_release_date': '2014-07',\n",
       " 'genebuild_last_geneset_update': '2017-06',\n",
       " 'genebuild_method': 'full_genebuild',\n",
       " 'genebuild_start_date': '2014-01-Ensembl',\n",
       " 'karyotype': ['1',\n",
       "  '2',\n",
       "  '3',\n",
       "  '4',\n",
       "  '5',\n",
       "  '6',\n",
       "  '7',\n",
       "  '8',\n",
       "  '9',\n",
       "  '10',\n",
       "  '11',\n",
       "  '12',\n",
       "  '13',\n",
       "  '14',\n",
       "  '15',\n",
       "  '16',\n",
       "  '17',\n",
       "  '18',\n",
       "  '19',\n",
       "  '20',\n",
       "  '21',\n",
       "  '22',\n",
       "  'X',\n",
       "  'Y',\n",
       "  'MT'],\n",
       " 'top_level_region': [{'coord_system': 'scaffold',\n",
       "   'length': 71251,\n",
       "   'name': 'KI270757.1'},\n",
       "  {'coord_system': 'scaffold', 'length': 157432, 'name': 'KI270741.1'},\n",
       "  {'coord_system': 'scaffold', 'length': 79590, 'name': 'KI270756.1'},\n",
       "  {'coord_system': 'scaffold', 'length': 112551, 'name': 'KI270730.1'},\n",
       "  {'coord_system': 'scaffold', 'length': 73985, 'name': 'KI270739.1'},\n",
       "  {'coord_system': 'scaffold', 'length': 99375, 'name': 'KI270738.1'},\n",
       "  {'coord_system': 'scaffold', 'length': 103838, 'name': 'KI270737.1'},\n",
       "  {'coord_system': 'scaffold', 'length': 998, 'name': 'KI270312.1'},\n",
       "  {'coord_system': 'scaffold', 'length': 5796, 'name': 'KI270591.1'},\n",
       "  {'coord_system': 'scaffold', 'length': 2805, 'name': 'KI270371.1'},\n",
       "  {'coord_system': 'scaffold', 'length': 990, 'name': 'KI270385.1'},\n",
       "  {'coord_system': 'scaffold', 'length': 1930, 'name': 'KI270381.1'},\n",
       "  {'coord_system': 'scaffold', 'length': 3253, 'name': 'KI270517.1'},\n",
       "  {'coord_system': 'scaffold', 'length': 1951, 'name': 'KI270508.1'},\n",
       "  {'coord_system': 'scaffold', 'length': 993, 'name': 'KI270539.1'},\n",
       "  {'coord_system': 'scaffold', 'length': 3041, 'name': 'KI270593.1'},\n",
       "  {'coord_system': 'scaffold', 'length': 2168, 'name': 'KI270530.1'},\n",
       "  {'coord_system': 'scaffold', 'length': 6158, 'name': 'KI270588.1'},\n",
       "  {'coord_system': 'scaffold', 'length': 971, 'name': 'KI270392.1'},\n",
       "  {'coord_system': 'scaffold', 'length': 2378, 'name': 'KI270375.1'},\n",
       "  {'coord_system': 'scaffold', 'length': 1040, 'name': 'KI270329.1'},\n",
       "  {'coord_system': 'scaffold', 'length': 1026, 'name': 'KI270336.1'},\n",
       "  {'coord_system': 'scaffold', 'length': 5353, 'name': 'KI270507.1'},\n",
       "  {'coord_system': 'scaffold', 'length': 981, 'name': 'KI270423.1'},\n",
       "  {'coord_system': 'scaffold', 'length': 4215, 'name': 'KI270382.1'},\n",
       "  {'coord_system': 'scaffold', 'length': 1750, 'name': 'KI270383.1'},\n",
       "  {'coord_system': 'scaffold', 'length': 4055, 'name': 'KI270468.1'},\n",
       "  {'coord_system': 'scaffold', 'length': 1045, 'name': 'KI270379.1'},\n",
       "  {'coord_system': 'scaffold', 'length': 6361, 'name': 'KI270515.1'},\n",
       "  {'coord_system': 'scaffold', 'length': 6504, 'name': 'KI270582.1'},\n",
       "  {'coord_system': 'scaffold', 'length': 1444, 'name': 'KI270316.1'},\n",
       "  {'coord_system': 'scaffold', 'length': 8127, 'name': 'KI270511.1'},\n",
       "  {'coord_system': 'scaffold', 'length': 1233, 'name': 'KI270466.1'},\n",
       "  {'coord_system': 'scaffold', 'length': 2186, 'name': 'KI270518.1'},\n",
       "  {'coord_system': 'scaffold', 'length': 1553, 'name': 'KI270580.1'},\n",
       "  {'coord_system': 'scaffold', 'length': 1428, 'name': 'KI270340.1'},\n",
       "  {'coord_system': 'scaffold', 'length': 1445, 'name': 'KI270422.1'},\n",
       "  {'coord_system': 'scaffold', 'length': 4513, 'name': 'KI270584.1'},\n",
       "  {'coord_system': 'scaffold', 'length': 2983, 'name': 'KI270528.1'},\n",
       "  {'coord_system': 'scaffold', 'length': 1652, 'name': 'KI270330.1'},\n",
       "  {'coord_system': 'scaffold', 'length': 2318, 'name': 'KI270509.1'},\n",
       "  {'coord_system': 'scaffold', 'length': 2969, 'name': 'KI270587.1'},\n",
       "  {'coord_system': 'scaffold', 'length': 970, 'name': 'KI270394.1'},\n",
       "  {'coord_system': 'scaffold', 'length': 1048, 'name': 'KI270335.1'},\n",
       "  {'coord_system': 'scaffold', 'length': 1650, 'name': 'KI270372.1'},\n",
       "  {'coord_system': 'scaffold', 'length': 1216, 'name': 'KI270388.1'},\n",
       "  {'coord_system': 'scaffold', 'length': 1201, 'name': 'KI270310.1'},\n",
       "  {'coord_system': 'scaffold', 'length': 5674, 'name': 'KI270522.1'},\n",
       "  {'coord_system': 'scaffold', 'length': 8320, 'name': 'KI270366.1'},\n",
       "  {'coord_system': 'scaffold', 'length': 1368, 'name': 'KI270334.1'},\n",
       "  {'coord_system': 'scaffold', 'length': 1179, 'name': 'KI270412.1'},\n",
       "  {'coord_system': 'scaffold', 'length': 2274, 'name': 'KI270302.1'},\n",
       "  {'coord_system': 'scaffold', 'length': 7046, 'name': 'KI270581.1'},\n",
       "  {'coord_system': 'scaffold', 'length': 2140, 'name': 'KI270424.1'},\n",
       "  {'coord_system': 'scaffold', 'length': 1599, 'name': 'KI270548.1'},\n",
       "  {'coord_system': 'scaffold', 'length': 1880, 'name': 'KI270396.1'},\n",
       "  {'coord_system': 'scaffold', 'length': 2656, 'name': 'KI270374.1'},\n",
       "  {'coord_system': 'scaffold', 'length': 1143, 'name': 'KI270395.1'},\n",
       "  {'coord_system': 'scaffold', 'length': 1537, 'name': 'KI270387.1'},\n",
       "  {'coord_system': 'scaffold', 'length': 2145, 'name': 'KI270418.1'},\n",
       "  {'coord_system': 'scaffold', 'length': 1298, 'name': 'KI270389.1'},\n",
       "  {'coord_system': 'scaffold', 'length': 1048, 'name': 'KI270378.1'},\n",
       "  {'coord_system': 'scaffold', 'length': 1029, 'name': 'KI270419.1'},\n",
       "  {'coord_system': 'scaffold', 'length': 1202, 'name': 'KI270544.1'},\n",
       "  {'coord_system': 'scaffold', 'length': 2415, 'name': 'KI270510.1'},\n",
       "  {'coord_system': 'scaffold', 'length': 7992, 'name': 'KI270448.1'},\n",
       "  {'coord_system': 'scaffold', 'length': 4685, 'name': 'KI270590.1'},\n",
       "  {'coord_system': 'scaffold', 'length': 1899, 'name': 'KI270529.1'},\n",
       "  {'coord_system': 'scaffold', 'length': 1361, 'name': 'KI270429.1'},\n",
       "  {'coord_system': 'scaffold', 'length': 1136, 'name': 'KI270376.1'},\n",
       "  {'coord_system': 'scaffold', 'length': 3530, 'name': 'KI270362.1'},\n",
       "  {'coord_system': 'scaffold', 'length': 1400, 'name': 'KI270583.1'},\n",
       "  {'coord_system': 'scaffold', 'length': 7642, 'name': 'KI270521.1'},\n",
       "  {'coord_system': 'scaffold', 'length': 1472, 'name': 'KI270305.1'},\n",
       "  {'coord_system': 'scaffold', 'length': 1300, 'name': 'KI270516.1'},\n",
       "  {'coord_system': 'scaffold', 'length': 1121, 'name': 'KI270337.1'},\n",
       "  {'coord_system': 'scaffold', 'length': 1884, 'name': 'KI270425.1'},\n",
       "  {'coord_system': 'scaffold', 'length': 1658, 'name': 'KI270384.1'},\n",
       "  {'coord_system': 'scaffold', 'length': 1308, 'name': 'KI270393.1'},\n",
       "  {'coord_system': 'scaffold', 'length': 1451, 'name': 'KI270373.1'},\n",
       "  {'coord_system': 'scaffold', 'length': 1484, 'name': 'KI270391.1'},\n",
       "  {'coord_system': 'scaffold', 'length': 1788, 'name': 'KI270386.1'},\n",
       "  {'coord_system': 'scaffold', 'length': 1428, 'name': 'KI270338.1'},\n",
       "  {'coord_system': 'scaffold', 'length': 1803, 'name': 'KI270363.1'},\n",
       "  {'coord_system': 'scaffold', 'length': 91309, 'name': 'KI270538.1'},\n",
       "  {'coord_system': 'scaffold', 'length': 3920, 'name': 'KI270467.1'},\n",
       "  {'coord_system': 'scaffold', 'length': 1774, 'name': 'KI270465.1'},\n",
       "  {'coord_system': 'scaffold', 'length': 4416, 'name': 'KI270320.1'},\n",
       "  {'coord_system': 'scaffold', 'length': 1942, 'name': 'KI270303.1'},\n",
       "  {'coord_system': 'scaffold', 'length': 2646, 'name': 'KI270411.1'},\n",
       "  {'coord_system': 'scaffold', 'length': 2276, 'name': 'KI270315.1'},\n",
       "  {'coord_system': 'scaffold', 'length': 12399, 'name': 'KI270311.1'},\n",
       "  {'coord_system': 'scaffold', 'length': 21476, 'name': 'KI270322.1'},\n",
       "  {'coord_system': 'scaffold', 'length': 2699, 'name': 'KI270333.1'},\n",
       "  {'coord_system': 'scaffold', 'length': 37690, 'name': 'KI270317.1'},\n",
       "  {'coord_system': 'scaffold', 'length': 2165, 'name': 'KI270304.1'},\n",
       "  {'coord_system': 'scaffold', 'length': 2043, 'name': 'KI270417.1'},\n",
       "  {'coord_system': 'scaffold', 'length': 2321, 'name': 'KI270420.1'},\n",
       "  {'coord_system': 'scaffold', 'length': 2387, 'name': 'KI270390.1'},\n",
       "  {'coord_system': 'scaffold', 'length': 44474, 'name': 'KI270589.1'},\n",
       "  {'coord_system': 'scaffold', 'length': 2489, 'name': 'KI270414.1'},\n",
       "  {'coord_system': 'scaffold', 'length': 31033, 'name': 'KI270579.1'},\n",
       "  {'coord_system': 'scaffold', 'length': 2855, 'name': 'KI270364.1'},\n",
       "  {'coord_system': 'scaffold', 'length': 392061, 'name': 'KI270442.1'},\n",
       "  {'coord_system': 'scaffold', 'length': 280839, 'name': 'KI270729.1'},\n",
       "  {'coord_system': 'scaffold', 'length': 181920, 'name': 'KI270736.1'},\n",
       "  {'coord_system': 'scaffold', 'length': 112505, 'name': 'KI270438.1'},\n",
       "  {'coord_system': 'scaffold', 'length': 138126, 'name': 'KI270519.1'},\n",
       "  {'coord_system': 'scaffold', 'length': 22689, 'name': 'KI270512.1'},\n",
       "  {'coord_system': 'scaffold', 'length': 92983, 'name': 'KI270435.1'},\n",
       "  {'coord_system': 'scaffold', 'length': 42210, 'name': 'KI270711.1'},\n",
       "  {'coord_system': 'scaffold', 'length': 201709, 'name': 'GL000009.2'},\n",
       "  {'coord_system': 'scaffold', 'length': 155397, 'name': 'GL000221.1'},\n",
       "  {'coord_system': 'scaffold', 'length': 172810, 'name': 'KI270725.1'},\n",
       "  {'coord_system': 'scaffold', 'length': 37240, 'name': 'KI270740.1'},\n",
       "  {'coord_system': 'scaffold', 'length': 150742, 'name': 'KI270751.1'},\n",
       "  {'coord_system': 'scaffold', 'length': 66486, 'name': 'KI270746.1'},\n",
       "  {'coord_system': 'scaffold', 'length': 164239, 'name': 'GL000213.1'},\n",
       "  {'coord_system': 'scaffold', 'length': 168472, 'name': 'KI270744.1'},\n",
       "  {'coord_system': 'scaffold', 'length': 161802, 'name': 'GL000220.1'},\n",
       "  {'coord_system': 'scaffold', 'length': 42811, 'name': 'KI270735.1'},\n",
       "  {'coord_system': 'scaffold', 'length': 165050, 'name': 'KI270734.1'},\n",
       "  {'coord_system': 'scaffold', 'length': 66860, 'name': 'KI270709.1'},\n",
       "  {'coord_system': 'scaffold', 'length': 93321, 'name': 'KI270748.1'},\n",
       "  {'coord_system': 'scaffold', 'length': 41891, 'name': 'KI270745.1'},\n",
       "  {'coord_system': 'scaffold', 'length': 92689, 'name': 'GL000208.1'},\n",
       "  {'coord_system': 'scaffold', 'length': 179693, 'name': 'GL000224.1'},\n",
       "  {'coord_system': 'scaffold', 'length': 27745, 'name': 'KI270752.1'},\n",
       "  {'coord_system': 'scaffold', 'length': 137718, 'name': 'GL000214.1'},\n",
       "  {'coord_system': 'scaffold', 'length': 186739, 'name': 'KI270742.1'},\n",
       "  {'coord_system': 'scaffold', 'length': 161471, 'name': 'KI270715.1'},\n",
       "  {'coord_system': 'scaffold', 'length': 182896, 'name': 'GL000195.1'},\n",
       "  {'coord_system': 'scaffold', 'length': 62944, 'name': 'KI270753.1'},\n",
       "  {'coord_system': 'scaffold', 'length': 194050, 'name': 'KI270722.1'},\n",
       "  {'coord_system': 'scaffold', 'length': 176845, 'name': 'KI270719.1'},\n",
       "  {'coord_system': 'scaffold', 'length': 36723, 'name': 'KI270755.1'},\n",
       "  {'coord_system': 'scaffold', 'length': 176043, 'name': 'KI270712.1'},\n",
       "  {'coord_system': 'scaffold', 'length': 41543, 'name': 'KI270732.1'},\n",
       "  {'coord_system': 'scaffold', 'length': 127682, 'name': 'KI270708.1'},\n",
       "  {'coord_system': 'scaffold', 'length': 150754, 'name': 'KI270731.1'},\n",
       "  {'coord_system': 'scaffold', 'length': 39050, 'name': 'KI270720.1'},\n",
       "  {'coord_system': 'scaffold', 'length': 191469, 'name': 'GL000194.1'},\n",
       "  {'coord_system': 'scaffold', 'length': 40745, 'name': 'KI270713.1'},\n",
       "  {'coord_system': 'scaffold', 'length': 153799, 'name': 'KI270716.1'},\n",
       "  {'coord_system': 'scaffold', 'length': 38115, 'name': 'KI270723.1'},\n",
       "  {'coord_system': 'scaffold', 'length': 15008, 'name': 'GL000226.1'},\n",
       "  {'coord_system': 'scaffold', 'length': 179198, 'name': 'GL000219.1'},\n",
       "  {'coord_system': 'scaffold', 'length': 148850, 'name': 'KI270750.1'},\n",
       "  {'coord_system': 'scaffold', 'length': 39555, 'name': 'KI270724.1'},\n",
       "  {'coord_system': 'scaffold', 'length': 32032, 'name': 'KI270707.1'},\n",
       "  {'coord_system': 'scaffold', 'length': 40191, 'name': 'KI270754.1'},\n",
       "  {'coord_system': 'scaffold', 'length': 175055, 'name': 'KI270706.1'},\n",
       "  {'coord_system': 'scaffold', 'length': 161147, 'name': 'GL000218.1'},\n",
       "  {'coord_system': 'scaffold', 'length': 41717, 'name': 'KI270714.1'},\n",
       "  {'coord_system': 'scaffold', 'length': 179772, 'name': 'KI270733.1'},\n",
       "  {'coord_system': 'scaffold', 'length': 100316, 'name': 'KI270721.1'},\n",
       "  {'coord_system': 'scaffold', 'length': 158759, 'name': 'KI270749.1'},\n",
       "  {'coord_system': 'scaffold', 'length': 176608, 'name': 'GL000216.2'},\n",
       "  {'coord_system': 'scaffold', 'length': 185591, 'name': 'GL000205.2'},\n",
       "  {'coord_system': 'scaffold', 'length': 38054, 'name': 'KI270718.1'},\n",
       "  {'coord_system': 'scaffold', 'length': 40062, 'name': 'KI270717.1'},\n",
       "  {'coord_system': 'scaffold', 'length': 210658, 'name': 'KI270743.1'},\n",
       "  {'coord_system': 'scaffold', 'length': 209709, 'name': 'GL000008.2'},\n",
       "  {'coord_system': 'scaffold', 'length': 40176, 'name': 'KI270710.1'},\n",
       "  {'coord_system': 'scaffold', 'length': 211173, 'name': 'GL000225.1'},\n",
       "  {'coord_system': 'scaffold', 'length': 198735, 'name': 'KI270747.1'},\n",
       "  {'coord_system': 'scaffold', 'length': 43739, 'name': 'KI270726.1'},\n",
       "  {'coord_system': 'scaffold', 'length': 1872759, 'name': 'KI270728.1'},\n",
       "  {'coord_system': 'chromosome', 'length': 57227415, 'name': 'Y'},\n",
       "  {'coord_system': 'chromosome', 'length': 64444167, 'name': '20'},\n",
       "  {'coord_system': 'chromosome', 'length': 156040895, 'name': 'X'},\n",
       "  {'coord_system': 'chromosome', 'length': 114364328, 'name': '13'},\n",
       "  {'coord_system': 'chromosome', 'length': 50818468, 'name': '22'},\n",
       "  {'coord_system': 'chromosome', 'length': 133797422, 'name': '10'},\n",
       "  {'coord_system': 'chromosome', 'length': 170805979, 'name': '6'},\n",
       "  {'coord_system': 'chromosome', 'length': 58617616, 'name': '19'},\n",
       "  {'coord_system': 'chromosome', 'length': 107043718, 'name': '14'},\n",
       "  {'coord_system': 'chromosome', 'length': 80373285, 'name': '18'},\n",
       "  {'coord_system': 'chromosome', 'length': 242193529, 'name': '2'},\n",
       "  {'coord_system': 'chromosome', 'length': 190214555, 'name': '4'},\n",
       "  {'coord_system': 'chromosome', 'length': 46709983, 'name': '21'},\n",
       "  {'coord_system': 'chromosome', 'length': 138394717, 'name': '9'},\n",
       "  {'coord_system': 'chromosome', 'length': 135086622, 'name': '11'},\n",
       "  {'coord_system': 'chromosome', 'length': 83257441, 'name': '17'},\n",
       "  {'coord_system': 'chromosome', 'length': 145138636, 'name': '8'},\n",
       "  {'coord_system': 'chromosome', 'length': 159345973, 'name': '7'},\n",
       "  {'coord_system': 'chromosome', 'length': 101991189, 'name': '15'},\n",
       "  {'coord_system': 'chromosome', 'length': 133275309, 'name': '12'},\n",
       "  {'coord_system': 'chromosome', 'length': 248956422, 'name': '1'},\n",
       "  {'coord_system': 'chromosome', 'length': 90338345, 'name': '16'},\n",
       "  {'coord_system': 'chromosome', 'length': 181538259, 'name': '5'},\n",
       "  {'coord_system': 'chromosome', 'length': 198295559, 'name': '3'},\n",
       "  {'coord_system': 'chromosome', 'length': 16569, 'name': 'MT'},\n",
       "  {'coord_system': 'scaffold', 'length': 448248, 'name': 'KI270727.1'}]}"
      ]
     },
     "execution_count": 5,
     "metadata": {},
     "output_type": "execute_result"
    }
   ],
   "source": [
    "assembly_info = client.assembly_info()\n",
    "assembly_info"
   ]
  },
  {
   "cell_type": "code",
   "execution_count": 6,
   "metadata": {},
   "outputs": [
    {
     "data": {
      "text/plain": [
       "[{'coord_system': 'chromosome', 'length': 57227415, 'name': 'Y'},\n",
       " {'coord_system': 'chromosome', 'length': 64444167, 'name': '20'},\n",
       " {'coord_system': 'chromosome', 'length': 156040895, 'name': 'X'},\n",
       " {'coord_system': 'chromosome', 'length': 114364328, 'name': '13'},\n",
       " {'coord_system': 'chromosome', 'length': 50818468, 'name': '22'},\n",
       " {'coord_system': 'chromosome', 'length': 133797422, 'name': '10'},\n",
       " {'coord_system': 'chromosome', 'length': 170805979, 'name': '6'},\n",
       " {'coord_system': 'chromosome', 'length': 58617616, 'name': '19'},\n",
       " {'coord_system': 'chromosome', 'length': 107043718, 'name': '14'},\n",
       " {'coord_system': 'chromosome', 'length': 80373285, 'name': '18'},\n",
       " {'coord_system': 'chromosome', 'length': 242193529, 'name': '2'},\n",
       " {'coord_system': 'chromosome', 'length': 190214555, 'name': '4'},\n",
       " {'coord_system': 'chromosome', 'length': 46709983, 'name': '21'},\n",
       " {'coord_system': 'chromosome', 'length': 138394717, 'name': '9'},\n",
       " {'coord_system': 'chromosome', 'length': 135086622, 'name': '11'},\n",
       " {'coord_system': 'chromosome', 'length': 83257441, 'name': '17'},\n",
       " {'coord_system': 'chromosome', 'length': 145138636, 'name': '8'},\n",
       " {'coord_system': 'chromosome', 'length': 159345973, 'name': '7'},\n",
       " {'coord_system': 'chromosome', 'length': 101991189, 'name': '15'},\n",
       " {'coord_system': 'chromosome', 'length': 133275309, 'name': '12'},\n",
       " {'coord_system': 'chromosome', 'length': 248956422, 'name': '1'},\n",
       " {'coord_system': 'chromosome', 'length': 90338345, 'name': '16'},\n",
       " {'coord_system': 'chromosome', 'length': 181538259, 'name': '5'},\n",
       " {'coord_system': 'chromosome', 'length': 198295559, 'name': '3'},\n",
       " {'coord_system': 'chromosome', 'length': 16569, 'name': 'MT'}]"
      ]
     },
     "execution_count": 6,
     "metadata": {},
     "output_type": "execute_result"
    }
   ],
   "source": [
    "chrom_info = [item for item in assembly_info['top_level_region']\n",
    "                  if item['coord_system'] == 'chromosome']\n",
    "chrom_info"
   ]
  },
  {
   "cell_type": "code",
   "execution_count": 8,
   "metadata": {},
   "outputs": [
    {
     "name": "stdout",
     "output_type": "stream",
     "text": [
      "Querying chrom Y\n",
      "Querying chrom 20\n",
      "Querying chrom X\n",
      "Querying chrom 13\n",
      "Querying chrom 22\n",
      "Querying chrom 10\n",
      "Querying chrom 6\n",
      "Querying chrom 19\n",
      "Querying chrom 14\n",
      "Querying chrom 18\n",
      "Querying chrom 2\n",
      "Querying chrom 4\n",
      "Querying chrom 21\n",
      "Querying chrom 9\n",
      "Querying chrom 11\n",
      "Querying chrom 17\n",
      "Querying chrom 8\n",
      "Querying chrom 7\n",
      "Querying chrom 15\n",
      "Querying chrom 12\n",
      "Querying chrom 1\n",
      "Querying chrom 16\n",
      "Querying chrom 5\n",
      "Querying chrom 3\n",
      "Querying chrom MT\n"
     ]
    }
   ],
   "source": [
    "from collections import defaultdict\n",
    "assembly_map = defaultdict(list)\n",
    "\n",
    "for chrom in chrom_info:\n",
    "    print(\"Querying chrom\", chrom['name'])\n",
    "    region = ensembl.region_str(chrom['name'], 1, chrom['length'])\n",
    "    map_ = client.assembly_map(region, \n",
    "                               from_assembly='GRCh37', \n",
    "                               to_assembly='GRCh38')\n",
    "    \n",
    "    for item in map_['mappings']:\n",
    "        from_ = item['original']\n",
    "        from_region = from_['start'],from_['end']\n",
    "        \n",
    "        to = item['mapped']\n",
    "        to_region = to['start'],to['end']\n",
    "        \n",
    "        assembly_map[chrom['name']].append((from_region,to_region))\n",
    "        \n",
    "    assembly_map[chrom['name']].sort(key=lambda x: x[0][0])"
   ]
  },
  {
   "cell_type": "code",
   "execution_count": 9,
   "metadata": {},
   "outputs": [
    {
     "data": {
      "text/plain": [
       "25"
      ]
     },
     "execution_count": 9,
     "metadata": {},
     "output_type": "execute_result"
    }
   ],
   "source": [
    "len(assembly_map)"
   ]
  },
  {
   "cell_type": "code",
   "execution_count": 10,
   "metadata": {},
   "outputs": [
    {
     "name": "stdout",
     "output_type": "stream",
     "text": [
      "181\n",
      "203\n",
      "3171\n",
      "46\n",
      "707\n",
      "553\n",
      "1304\n",
      "920\n",
      "1350\n",
      "86\n",
      "830\n",
      "271\n",
      "242\n",
      "930\n",
      "418\n",
      "364\n",
      "567\n",
      "1656\n",
      "737\n",
      "105\n",
      "2862\n",
      "46\n",
      "123\n",
      "465\n",
      "1\n"
     ]
    }
   ],
   "source": [
    "for chrom in assembly_map:\n",
    "    print(len(assembly_map[chrom]))"
   ]
  },
  {
   "cell_type": "code",
   "execution_count": 12,
   "metadata": {},
   "outputs": [
    {
     "data": {
      "text/plain": [
       "[((10001, 177417), (10001, 177417)),\n",
       " ((227418, 267719), (257667, 297968)),\n",
       " ((317720, 471368), (347969, 501617)),\n",
       " ((521369, 1566075), (585989, 1630695)),\n",
       " ((1566076, 1569784), (1630697, 1634405)),\n",
       " ((1569785, 1570918), (1634409, 1635542)),\n",
       " ((1570919, 1570922), (1635547, 1635550)),\n",
       " ((1570923, 1574299), (1635561, 1638937)),\n",
       " ((1574300, 1583669), (1638939, 1648308)),\n",
       " ((1583670, 1583878), (1648310, 1648518))]"
      ]
     },
     "execution_count": 12,
     "metadata": {},
     "output_type": "execute_result"
    }
   ],
   "source": [
    "assembly_map['1'][:10]"
   ]
  },
  {
   "cell_type": "markdown",
   "metadata": {},
   "source": [
    "# Trying to minimize queries using an interval tree"
   ]
  },
  {
   "cell_type": "code",
   "execution_count": 17,
   "metadata": {},
   "outputs": [],
   "source": [
    "import intervaltree as it"
   ]
  },
  {
   "cell_type": "code",
   "execution_count": 18,
   "metadata": {},
   "outputs": [
    {
     "name": "stdout",
     "output_type": "stream",
     "text": [
      "Querying chrom Y\n",
      "Querying chrom 20\n",
      "Querying chrom X\n",
      "Querying chrom 13\n",
      "Querying chrom 22\n",
      "Querying chrom 10\n",
      "Querying chrom 6\n",
      "Querying chrom 19\n",
      "Querying chrom 14\n",
      "Querying chrom 18\n",
      "Querying chrom 2\n",
      "Querying chrom 4\n",
      "Querying chrom 21\n",
      "Querying chrom 9\n",
      "Querying chrom 11\n",
      "Querying chrom 17\n",
      "Querying chrom 8\n",
      "Querying chrom 7\n",
      "Querying chrom 15\n",
      "Querying chrom 12\n",
      "Querying chrom 1\n",
      "Querying chrom 16\n",
      "Querying chrom 5\n",
      "Querying chrom 3\n",
      "Querying chrom MT\n"
     ]
    }
   ],
   "source": [
    "from collections import defaultdict\n",
    "assembly_map = defaultdict(IntervalTree)\n",
    "\n",
    "for chrom in chrom_info:\n",
    "    print(\"Querying chrom\", chrom['name'])\n",
    "    region = ensembl.region_str(chrom['name'], \n",
    "                                start=1, end=chrom['length'])\n",
    "    map_ = client.assembly_map(region, \n",
    "                               from_assembly='GRCh37', \n",
    "                               to_assembly='GRCh38')\n",
    "    \n",
    "    for item in map_['mappings']:\n",
    "        from_ = item['original']\n",
    "        # Need to modify to represent a half open\n",
    "        # interval (as [a,b) instead of [a,b])\n",
    "        from_region = from_['start'],from_['end']+1\n",
    "        \n",
    "        to = item['mapped']\n",
    "        to_region = to['start'],to['end']\n",
    "        \n",
    "        try:\n",
    "            assembly_map[chrom['name']].addi(*from_region, \n",
    "                                         data=to_region)\n",
    "        except ValueError:\n",
    "            print(item)\n",
    "            raise"
   ]
  },
  {
   "cell_type": "code",
   "execution_count": 21,
   "metadata": {},
   "outputs": [
    {
     "ename": "SyntaxError",
     "evalue": "invalid syntax (<ipython-input-21-7fa30efc291e>, line 10)",
     "output_type": "error",
     "traceback": [
      "\u001b[0;36m  File \u001b[0;32m\"<ipython-input-21-7fa30efc291e>\"\u001b[0;36m, line \u001b[0;32m10\u001b[0m\n\u001b[0;31m    import ...src.Python.ICGC_data_parser as dp\u001b[0m\n\u001b[0m             ^\u001b[0m\n\u001b[0;31mSyntaxError\u001b[0m\u001b[0;31m:\u001b[0m invalid syntax\n"
     ]
    }
   ],
   "source": [
    "# Helper function to test\n",
    "from itertools import islice\n",
    "\n",
    "def head(iterable, items=10):\n",
    "    'Return the first items of an iterator.'\n",
    "    iterator = iter(iterable)\n",
    "    return islice(iterator, items)\n",
    "# ---\n",
    "\n",
    "import ...src.Python.ICGC_data_parser as dp\n",
    "reader = dp.SSM_Reader(filename='data/ssm_sample.vcf')\n",
    "\n",
    "for record in head(reader.parse(filters=['BRCA-EU'])):\n",
    "    print(record.ID, record.CHROM, record.POS)"
   ]
  },
  {
   "cell_type": "code",
   "execution_count": null,
   "metadata": {},
   "outputs": [],
   "source": []
  }
 ],
 "metadata": {
  "kernelspec": {
   "display_name": "Python 3",
   "language": "python",
   "name": "python3"
  },
  "language_info": {
   "codemirror_mode": {
    "name": "ipython",
    "version": 3
   },
   "file_extension": ".py",
   "mimetype": "text/x-python",
   "name": "python",
   "nbconvert_exporter": "python",
   "pygments_lexer": "ipython3",
   "version": "3.6.1"
  }
 },
 "nbformat": 4,
 "nbformat_minor": 2
}
